{
 "cells": [
  {
   "cell_type": "markdown",
   "metadata": {},
   "source": [
    "# MNIST example for LLVI\n",
    "Code partly taken from https://nextjournal.com/gkoehler/pytorch-mnist"
   ]
  },
  {
   "cell_type": "code",
   "execution_count": 1,
   "metadata": {},
   "outputs": [],
   "source": [
    "import torch\n",
    "import torchvision"
   ]
  },
  {
   "cell_type": "code",
   "execution_count": 2,
   "metadata": {},
   "outputs": [],
   "source": [
    "n_epochs = 3\n",
    "batch_size_train = 32\n",
    "batch_size_test = 1000\n",
    "learning_rate = 0.01\n",
    "momentum = 0.5\n",
    "log_interval = 10"
   ]
  },
  {
   "cell_type": "markdown",
   "metadata": {},
   "source": [
    "### Load the data"
   ]
  },
  {
   "cell_type": "code",
   "execution_count": 3,
   "metadata": {},
   "outputs": [
    {
     "name": "stderr",
     "output_type": "stream",
     "text": [
      "C:\\Eigene Programme\\Anaconda\\lib\\site-packages\\torchvision\\datasets\\mnist.py:498: UserWarning: The given NumPy array is not writeable, and PyTorch does not support non-writeable tensors. This means you can write to the underlying (supposedly non-writeable) NumPy array using the tensor. You may want to copy the array to protect its data or make it writeable before converting it to a tensor. This type of warning will be suppressed for the rest of this program. (Triggered internally at  ..\\torch\\csrc\\utils\\tensor_numpy.cpp:180.)\n",
      "  return torch.from_numpy(parsed.astype(m[2], copy=False)).view(*s)\n"
     ]
    }
   ],
   "source": [
    "train_loader = torch.utils.data.DataLoader(\n",
    "  torchvision.datasets.MNIST('../files/', train=True, download=True,\n",
    "                             transform=torchvision.transforms.Compose([\n",
    "                               torchvision.transforms.ToTensor(),\n",
    "                               torchvision.transforms.Normalize(\n",
    "                                 (0.1307,), (0.3081,))\n",
    "                             ])),\n",
    "  batch_size=batch_size_train, shuffle=True)"
   ]
  },
  {
   "cell_type": "code",
   "execution_count": 4,
   "metadata": {},
   "outputs": [],
   "source": [
    "import torch.nn as nn\n",
    "import torch.nn.functional as F\n",
    "import torch.optim as optim\n",
    "from torch.distributions.multivariate_normal import MultivariateNormal\n",
    "from torch.distributions.kl import kl_divergence\n",
    "from torch.distributions.categorical import Categorical"
   ]
  },
  {
   "cell_type": "markdown",
   "metadata": {},
   "source": [
    "### Define the model"
   ]
  },
  {
   "cell_type": "code",
   "execution_count": 5,
   "metadata": {},
   "outputs": [],
   "source": [
    "class Net(nn.Module):\n",
    "    def __init__(self):\n",
    "        super(Net, self).__init__()\n",
    "        self.conv1 = nn.Conv2d(1, 10, kernel_size=5)\n",
    "        self.conv2 = nn.Conv2d(10, 20, kernel_size=5)\n",
    "        self.conv2_drop = nn.Dropout2d()\n",
    "        self.fc1 = nn.Linear(320, 50)\n",
    "        self.fc2_mu = torch.randn(50, 10, requires_grad=True)\n",
    "        self.fc2_log_var = torch.randn_like(self.fc2_mu, requires_grad=True)\n",
    "\n",
    "    def forward(self, x, train=True):\n",
    "        x = F.relu(F.max_pool2d(self.conv1(x), 2))\n",
    "        x = F.relu(F.max_pool2d(self.conv2_drop(self.conv2(x)), 2))\n",
    "        x = x.view(-1, 320)\n",
    "        x = F.relu(self.fc1(x))\n",
    "        # x = F.dropout(x, training=self.training)\n",
    "        x = x @ self.sample_fc_2(train = True)\n",
    "        return x, self.fc2_mu, self.fc2_log_var\n",
    "\n",
    "    def sample_fc_2(self, train):\n",
    "        if train:\n",
    "            return self.fc2_mu + torch.exp(0.5 * self.fc2_log_var) * torch.randn_like(self.fc2_mu)\n",
    "        else:\n",
    "            return self.fc2_mu\n",
    "\n",
    "\n",
    "class CNN(nn.Module):\n",
    "    # https://medium.com/@nutanbhogendrasharma/pytorch-convolutional-neural-network-with-mnist-dataset-4e8a4265e118\n",
    "    def __init__(self):\n",
    "        super(CNN, self).__init__()\n",
    "        self.conv1 = nn.Sequential(         \n",
    "            nn.Conv2d(\n",
    "                in_channels=1,              \n",
    "                out_channels=16,            \n",
    "                kernel_size=5,              \n",
    "                stride=1,                   \n",
    "                padding=2,                  \n",
    "            ),                              \n",
    "            nn.ReLU(),                      \n",
    "            nn.MaxPool2d(kernel_size=2),    \n",
    "        )\n",
    "        self.conv2 = nn.Sequential(         \n",
    "            nn.Conv2d(16, 32, 5, 1, 2),     \n",
    "            nn.ReLU(),                      \n",
    "            nn.MaxPool2d(2),                \n",
    "        )        # fully connected layer, output 10 classes\n",
    "        self.fc_mu = torch.randn(32 * 7 * 7, 10, requires_grad=True)\n",
    "        self.fc_log_var = torch.randn_like(self.fc_mu, requires_grad=True)\n",
    "        # self.log_softmax = nn.LogSoftmax(dim=-1)\n",
    "\n",
    "    def forward(self, x, train=True):\n",
    "        x = self.conv1(x)\n",
    "        x = self.conv2(x)        # flatten the output of conv2 to (batch_size, 32 * 7 * 7)\n",
    "        x = x.view(x.size(0), -1)       \n",
    "        output = x @ self.sample_fc(train=train)\n",
    "        output = F.log_softmax(output)\n",
    "        return output, self.fc_mu, self.fc_log_var\n",
    "\n",
    "    def sample_fc(self, train):\n",
    "        if train:\n",
    "            return self.fc_mu + torch.exp(0.5 * self.fc_log_var) * torch.randn_like(self.fc_mu)\n",
    "        else:\n",
    "            return self.fc_mu"
   ]
  },
  {
   "cell_type": "code",
   "execution_count": 6,
   "metadata": {},
   "outputs": [],
   "source": [
    "network = Net()\n",
    "optimizer = optim.SGD([{\"params\": network.parameters()}, {\"params\": network.fc2_mu}, {\"params\": network.fc2_log_var}], lr=learning_rate,\n",
    "                      momentum=momentum)"
   ]
  },
  {
   "cell_type": "code",
   "execution_count": 7,
   "metadata": {},
   "outputs": [
    {
     "name": "stdout",
     "output_type": "stream",
     "text": [
      "Model's state_dict:\n",
      "conv1.weight \t torch.Size([10, 1, 5, 5])\n",
      "conv1.bias \t torch.Size([10])\n",
      "conv2.weight \t torch.Size([20, 10, 5, 5])\n",
      "conv2.bias \t torch.Size([20])\n",
      "fc1.weight \t torch.Size([50, 320])\n",
      "fc1.bias \t torch.Size([50])\n",
      "Optimizer's state_dict:\n",
      "state \t {}\n",
      "param_groups \t [{'lr': 0.01, 'momentum': 0.5, 'dampening': 0, 'weight_decay': 0, 'nesterov': False, 'params': [0, 1, 2, 3, 4, 5]}, {'lr': 0.01, 'momentum': 0.5, 'dampening': 0, 'weight_decay': 0, 'nesterov': False, 'params': [6]}, {'lr': 0.01, 'momentum': 0.5, 'dampening': 0, 'weight_decay': 0, 'nesterov': False, 'params': [7]}]\n"
     ]
    }
   ],
   "source": [
    "print(\"Model's state_dict:\")\n",
    "for param_tensor in network.state_dict():\n",
    "    print(param_tensor, \"\\t\", network.state_dict()[param_tensor].size())\n",
    "\n",
    "# Print optimizer's state_dict\n",
    "print(\"Optimizer's state_dict:\")\n",
    "for var_name in optimizer.state_dict():\n",
    "    print(var_name, \"\\t\", optimizer.state_dict()[var_name])"
   ]
  },
  {
   "cell_type": "markdown",
   "metadata": {},
   "source": [
    "### Define loss and train function"
   ]
  },
  {
   "cell_type": "code",
   "execution_count": 8,
   "metadata": {},
   "outputs": [],
   "source": [
    "def KL_div_gaussian_diagonal(mu1, log_var1, mu2, log_var2):\n",
    "    return 0.5 * (torch.sum(log_var2) - torch.sum(log_var1) - mu1.shape[0] + torch.sum(torch.exp(log_var1 - log_var2)) + torch.sum(torch.div(torch.square(mu2 - mu1), torch.exp(log_var2))))"
   ]
  },
  {
   "cell_type": "code",
   "execution_count": 9,
   "metadata": {},
   "outputs": [],
   "source": [
    "def NLL_loss(pred, target):\n",
    "    return - torch.mean(F.log_softmax(pred, dim=-1)[target])\n"
   ]
  },
  {
   "cell_type": "code",
   "execution_count": 10,
   "metadata": {},
   "outputs": [],
   "source": [
    "def loss_function(output, target, fc2_mu, fc2_log_var):\n",
    "    fc2_mu = torch.flatten(fc2_mu)\n",
    "    fc2_log_var = torch.flatten(fc2_log_var)\n",
    "    # KL_Div = kl_divergence(MultivariateNormal(fc2_mu, torch.diag(torch.exp(fc2_log_var))), MultivariateNormal(torch.ones_like(fc2_mu), 0.5*torch.eye(fc2_mu.shape[0]))) # from pytorch\n",
    "    # KL_Div = KL_div_gaussian_diagonal(fc2_mu, fc2_log_var, torch.zeros_like(fc2_mu),  - torch.ones_like(fc2_log_var)) # prior of mu = 0, log_var=0 -> var=1\n",
    "    likelihood = F.cross_entropy(output, target, reduction=\"mean\")\n",
    "    # likelihood = NLL_loss(output, target)\n",
    "    return likelihood #+ KL_Div "
   ]
  },
  {
   "cell_type": "code",
   "execution_count": 11,
   "metadata": {},
   "outputs": [],
   "source": [
    "def train(epochs):\n",
    "  network.train()\n",
    "  for epoch in range(epochs):\n",
    "    episode_loss = []\n",
    "    for batch_idx, (data, target) in enumerate(train_loader):\n",
    "      optimizer.zero_grad()\n",
    "      output, fc2_mu, fc2_log_var = network(data)\n",
    "      loss = loss_function(output, target, fc2_mu, fc2_log_var)\n",
    "      loss.backward()\n",
    "      with torch.no_grad():\n",
    "        episode_loss += [loss]\n",
    "      optimizer.step()\n",
    "    \n",
    "    print(f\"Epoch {epoch} loss\", sum(episode_loss)/len(episode_loss))\n"
   ]
  },
  {
   "cell_type": "code",
   "execution_count": 12,
   "metadata": {},
   "outputs": [
    {
     "data": {
      "text/plain": [
       "tensor([ 0.0993, -0.7085,  0.4544, -0.6551,  1.0850,  0.2790,  0.0604, -0.2557,\n",
       "         0.0298, -1.0999], grad_fn=<SelectBackward>)"
      ]
     },
     "execution_count": 12,
     "metadata": {},
     "output_type": "execute_result"
    }
   ],
   "source": [
    "network.fc2_mu[0]"
   ]
  },
  {
   "cell_type": "code",
   "execution_count": 13,
   "metadata": {},
   "outputs": [
    {
     "name": "stderr",
     "output_type": "stream",
     "text": [
      "C:\\Eigene Programme\\Anaconda\\lib\\site-packages\\torch\\nn\\functional.py:718: UserWarning: Named tensors and all their associated APIs are an experimental feature and subject to change. Please do not use them for anything important until they are released as stable. (Triggered internally at  ..\\c10/core/TensorImpl.h:1156.)\n",
      "  return torch.max_pool2d(input, kernel_size, stride, padding, dilation, ceil_mode)\n"
     ]
    },
    {
     "name": "stdout",
     "output_type": "stream",
     "text": [
      "Epoch 0 loss tensor(0.7843, grad_fn=<DivBackward0>)\n",
      "Epoch 1 loss tensor(0.3485, grad_fn=<DivBackward0>)\n",
      "Epoch 2 loss tensor(0.2509, grad_fn=<DivBackward0>)\n",
      "Epoch 3 loss tensor(0.2115, grad_fn=<DivBackward0>)\n",
      "Epoch 4 loss tensor(0.1807, grad_fn=<DivBackward0>)\n"
     ]
    }
   ],
   "source": [
    "train(5)"
   ]
  },
  {
   "cell_type": "code",
   "execution_count": 14,
   "metadata": {},
   "outputs": [
    {
     "data": {
      "text/plain": [
       "tensor([-0.1245, -0.8598,  0.5264, -0.6987,  1.8208,  0.1970, -0.0564, -0.3261,\n",
       "         0.0217, -1.2116], grad_fn=<SelectBackward>)"
      ]
     },
     "execution_count": 14,
     "metadata": {},
     "output_type": "execute_result"
    }
   ],
   "source": [
    "network.fc2_mu[0]"
   ]
  },
  {
   "cell_type": "code",
   "execution_count": 15,
   "metadata": {},
   "outputs": [
    {
     "data": {
      "text/plain": [
       "tensor([[ 0.6453, -0.4081, -0.8679,  0.4652, -0.2863,  0.6638, -1.7010,  0.4917,\n",
       "         -0.9439, -0.7694],\n",
       "        [ 0.5918, -0.7719, -0.9773,  0.9432,  0.5641, -0.7648, -1.3679,  0.0279,\n",
       "         -1.0697, -0.8418],\n",
       "        [-0.4528,  0.5255,  0.1406,  0.7993,  0.2916, -0.6659,  0.7117,  1.7143,\n",
       "         -0.5608, -0.0209],\n",
       "        [ 1.2192, -2.1407, -0.1426,  0.5612,  0.4068, -0.9461, -1.3702,  0.6492,\n",
       "          0.9687,  0.7044],\n",
       "        [ 1.3438, -1.0579,  0.8754, -0.7553, -1.3512,  0.7080,  0.3267,  0.0069,\n",
       "         -0.1236,  0.2380],\n",
       "        [ 0.4323, -0.8001, -0.5390,  0.1284,  0.4230,  0.4783, -0.1827,  0.7006,\n",
       "          1.3789,  0.3679],\n",
       "        [ 0.3035, -0.4362, -1.7527, -0.6813, -0.0329, -1.2927, -0.6030, -0.3196,\n",
       "          0.4540, -0.0481],\n",
       "        [-0.1625,  0.5907, -0.2997,  1.2326, -2.0085, -1.2568, -0.8514, -1.4775,\n",
       "          1.4476, -2.3986],\n",
       "        [ 0.4222,  0.1706,  0.4013,  0.9086, -1.8218, -0.4644, -1.3920,  0.9575,\n",
       "         -0.6742, -1.1100],\n",
       "        [-0.5251, -0.9774,  1.0877, -0.8425, -0.4834,  0.7324,  0.4774, -0.0679,\n",
       "          0.3238, -0.6565]], grad_fn=<SliceBackward>)"
      ]
     },
     "execution_count": 15,
     "metadata": {},
     "output_type": "execute_result"
    }
   ],
   "source": [
    "network.fc2_log_var[:10]"
   ]
  },
  {
   "cell_type": "markdown",
   "metadata": {},
   "source": [
    "### Testing"
   ]
  },
  {
   "cell_type": "code",
   "execution_count": 16,
   "metadata": {},
   "outputs": [],
   "source": [
    "test_loader = torch.utils.data.DataLoader(\n",
    "  torchvision.datasets.MNIST('../files/', train=False, download=True,\n",
    "                             transform=torchvision.transforms.Compose([\n",
    "                               torchvision.transforms.ToTensor(),\n",
    "                               torchvision.transforms.Normalize(\n",
    "                                 (0.1307,), (0.3081,))\n",
    "                             ])),\n",
    "  batch_size=batch_size_test, shuffle=True)"
   ]
  },
  {
   "cell_type": "code",
   "execution_count": 17,
   "metadata": {},
   "outputs": [],
   "source": [
    "test_losses = []\n",
    "def test():\n",
    "  network.eval()\n",
    "  test_loss = 0\n",
    "  correct = 0\n",
    "  with torch.no_grad():\n",
    "    for data, target in test_loader:\n",
    "      output, _, _ = network(data, train=False)\n",
    "      test_loss += F.cross_entropy(output, target, reduction=\"sum\").item()\n",
    "      pred = output.data.max(1, keepdim=True)[1]\n",
    "      correct += pred.eq(target.data.view_as(pred)).sum()\n",
    "  test_loss /= len(test_loader.dataset)\n",
    "  test_losses.append(test_loss)\n",
    "  print('\\nTest set: Avg. loss: {:.4f}, Accuracy: {}/{} ({:.0f}%)\\n'.format(\n",
    "    test_loss, correct, len(test_loader.dataset),\n",
    "    100. * correct / len(test_loader.dataset)))"
   ]
  },
  {
   "cell_type": "code",
   "execution_count": 18,
   "metadata": {},
   "outputs": [
    {
     "name": "stdout",
     "output_type": "stream",
     "text": [
      "\n",
      "Test set: Avg. loss: 0.0739, Accuracy: 9795/10000 (98%)\n",
      "\n"
     ]
    }
   ],
   "source": [
    "test()"
   ]
  },
  {
   "cell_type": "code",
   "execution_count": null,
   "metadata": {},
   "outputs": [],
   "source": []
  }
 ],
 "metadata": {
  "interpreter": {
   "hash": "4b5be0c7d8816b0411dd8381c01b6ac4b538687487d40264816f7c3f94b5666c"
  },
  "kernelspec": {
   "display_name": "Python 3.7.11 64-bit ('base': conda)",
   "name": "python3"
  },
  "language_info": {
   "codemirror_mode": {
    "name": "ipython",
    "version": 3
   },
   "file_extension": ".py",
   "mimetype": "text/x-python",
   "name": "python",
   "nbconvert_exporter": "python",
   "pygments_lexer": "ipython3",
   "version": "3.7.11"
  },
  "orig_nbformat": 4
 },
 "nbformat": 4,
 "nbformat_minor": 2
}
