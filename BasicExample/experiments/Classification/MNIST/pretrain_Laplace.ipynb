{
 "cells": [
  {
   "cell_type": "code",
   "execution_count": 1,
   "metadata": {},
   "outputs": [],
   "source": [
    "import math\n",
    "import sys\n",
    "sys.path.append('/Users/philippvonbachmann/Documents/University/WiSe2122/ResearchProject/ResearchProjectLLVI/BasicExample')\n",
    "from torch import nn, optim\n",
    "from torch.nn import functional as F\n",
    "import torch\n",
    "import torchvision\n",
    "from laplace import Laplace\n",
    "from tqdm import tqdm\n",
    "from matplotlib import pyplot as plt\n",
    "plt.rcParams.update({\n",
    "    \"text.usetex\": True,\n",
    "    \"font.size\": 18,\n",
    "    \"font.family\": \"sans-serif\",\n",
    "    \"font.sans-serif\": [\"Helvetica\"]})\n",
    "\n",
    "from src.weight_distribution.Full import FullCovariance\n",
    "from src.weight_distribution.Diagonal import Diagonal\n",
    "from src.network.Classification import LLVIClassification\n",
    "from src.network import PredictApprox, LikApprox\n"
   ]
  },
  {
   "cell_type": "code",
   "execution_count": 2,
   "metadata": {},
   "outputs": [],
   "source": [
    "class CNN(nn.Module):\n",
    "    def __init__(self, out_dim=10, optimizer=optim.Adam, **optim_kwargs):\n",
    "        super().__init__()\n",
    "        self.conv1 = nn.Conv2d(1, 6, 5)\n",
    "        self.pool = nn.MaxPool2d(2, 2)\n",
    "        self.conv2 = nn.Conv2d(6, 16, 5)\n",
    "        self.fc1 = nn.Linear(256, 120)\n",
    "        self.fc2 = nn.Linear(120, 50)\n",
    "        self.fc3 = nn.Linear(50, out_dim, bias=False)\n",
    "        self.optimizer: optim = optimizer(self.parameters(), **optim_kwargs)\n",
    "        self.nonll = torch.sigmoid # nonlinear layer\n",
    "\n",
    "    def forward(self, x):\n",
    "        x = self.pool(self.nonll(self.conv1(x)))\n",
    "        x = self.pool(self.nonll(self.conv2(x)))\n",
    "        x = torch.flatten(x, 1) # flatten all dimensions except batch\n",
    "        x = self.nonll(self.fc1(x))\n",
    "        x = self.nonll(self.fc2(x))\n",
    "        x = self.fc3(x)\n",
    "        return x \n",
    "\n",
    "\n",
    "class VICNN(nn.Module):\n",
    "    def __init__(self, feature_dim=50, optimizer=optim.Adam, **optim_kwargs):\n",
    "        super().__init__()\n",
    "        self.conv1 = nn.Conv2d(1, 6, 5)\n",
    "        self.pool = nn.MaxPool2d(2, 2)\n",
    "        self.conv2 = nn.Conv2d(6, 16, 5)\n",
    "        self.fc1 = nn.Linear(256, 120)\n",
    "        self.fc2 = nn.Linear(120, feature_dim)\n",
    "        self.optimizer: optim = optimizer(self.parameters(), **optim_kwargs)\n",
    "        self.nonll = torch.sigmoid # nonlinear layer\n",
    "\n",
    "    def forward(self, x):\n",
    "        x = self.pool(self.nonll(self.conv1(x)))\n",
    "        x = self.pool(self.nonll(self.conv2(x)))\n",
    "        x = torch.flatten(x, 1) # flatten all dimensions except batch\n",
    "        x = self.nonll(self.fc1(x))\n",
    "        x = self.nonll(self.fc2(x))\n",
    "        return x"
   ]
  },
  {
   "cell_type": "code",
   "execution_count": 3,
   "metadata": {},
   "outputs": [
    {
     "name": "stderr",
     "output_type": "stream",
     "text": [
      "/opt/homebrew/Caskroom/miniforge/base/envs/DeepLearning/lib/python3.9/site-packages/torchvision/datasets/mnist.py:498: UserWarning: The given NumPy array is not writeable, and PyTorch does not support non-writeable tensors. This means you can write to the underlying (supposedly non-writeable) NumPy array using the tensor. You may want to copy the array to protect its data or make it writeable before converting it to a tensor. This type of warning will be suppressed for the rest of this program. (Triggered internally at  /Users/runner/miniforge3/conda-bld/pytorch-recipe_1635217266490/work/torch/csrc/utils/tensor_numpy.cpp:189.)\n",
      "  return torch.from_numpy(parsed.astype(m[2], copy=False)).view(*s)\n"
     ]
    }
   ],
   "source": [
    "batch_size_train = 32\n",
    "filepath = \"/Users/philippvonbachmann/Documents/University/WiSe2122/ResearchProject/ResearchProjectLLVI/BasicExample/datasets/Classification\"\n",
    "dataset = torchvision.datasets.MNIST(filepath, train=True, download=False,\n",
    "                            transform=torchvision.transforms.Compose([\n",
    "                              torchvision.transforms.ToTensor(),\n",
    "                              torchvision.transforms.Normalize(\n",
    "                                (0.1307,), (0.3081,))\n",
    "                            ]))\n",
    "train_size = int(0.5 * len(dataset))\n",
    "rest_size = len(dataset) - train_size                            \n",
    "dataset, _ = torch.utils.data.random_split(dataset, [train_size, rest_size])\n",
    "train_loader = torch.utils.data.DataLoader(dataset,\n",
    "  batch_size=batch_size_train, shuffle=True)\n",
    "n_datapoints = batch_size_train * len(train_loader)"
   ]
  },
  {
   "cell_type": "code",
   "execution_count": 4,
   "metadata": {},
   "outputs": [],
   "source": [
    "batch_size_test = 6000\n",
    "test_loader = torch.utils.data.DataLoader(\n",
    "torchvision.datasets.MNIST(filepath, train=False, download=False,\n",
    "                            transform=torchvision.transforms.Compose([\n",
    "                            torchvision.transforms.ToTensor(),\n",
    "                            torchvision.transforms.Normalize(\n",
    "                                (0.1307,), (0.3081,))\n",
    "                            ])),\n",
    "batch_size=batch_size_test, shuffle=True)"
   ]
  },
  {
   "cell_type": "code",
   "execution_count": 5,
   "metadata": {},
   "outputs": [],
   "source": [
    "# general parameters\n",
    "feature_dim = 50\n",
    "out_dim=10\n",
    "weight_decay = 1e-3\n",
    "lr = 1e-3\n",
    "base_train_epochs = 20\n",
    "prior_log_var = math.log(1/(weight_decay * n_datapoints)) # set to wdecay\n",
    "\n",
    "# VI parameters\n",
    "tau = 1\n",
    "vi_train_epochs = 50\n",
    "train_samples = 1\n",
    "test_samples=100"
   ]
  },
  {
   "cell_type": "code",
   "execution_count": 6,
   "metadata": {},
   "outputs": [
    {
     "name": "stderr",
     "output_type": "stream",
     "text": [
      "Loss: 0.12: 100%|██████████| 20/20 [02:05<00:00,  6.28s/it]\n"
     ]
    }
   ],
   "source": [
    "torch.manual_seed(3)\n",
    "basemodel = CNN(weight_decay=weight_decay, lr=lr, out_dim=out_dim)\n",
    "criterion = torch.nn.CrossEntropyLoss()\n",
    "\n",
    "# train\n",
    "pbar = tqdm(range(base_train_epochs))\n",
    "for i in pbar:\n",
    "    epoch_loss = 0\n",
    "    for X_batch, y_batch in train_loader:\n",
    "        basemodel.optimizer.zero_grad()\n",
    "        output = basemodel(X_batch)\n",
    "        output = F.log_softmax(output, dim=-1)\n",
    "        loss = criterion(output, y_batch)\n",
    "        loss.backward()\n",
    "        epoch_loss += loss.item()\n",
    "        basemodel.optimizer.step()\n",
    "\n",
    "    pbar.set_description(f\"Loss: {round(epoch_loss/len(train_loader), 2)}\")"
   ]
  },
  {
   "cell_type": "markdown",
   "metadata": {},
   "source": [
    "## LLVI estimation"
   ]
  },
  {
   "cell_type": "code",
   "execution_count": 7,
   "metadata": {},
   "outputs": [
    {
     "name": "stdout",
     "output_type": "stream",
     "text": [
      "Accuracy with VI before Training 0.9614999890327454\n",
      "Accuracy with VI before Training 0.9545000195503235\n"
     ]
    },
    {
     "name": "stderr",
     "output_type": "stream",
     "text": [
      "prediction_loss:0.36 kl_loss:0.45: 100%|██████████| 50/50 [05:40<00:00,  6.81s/it]\n"
     ]
    },
    {
     "name": "stdout",
     "output_type": "stream",
     "text": [
      "Accuracy with VI after Training 0.9736666679382324\n",
      "Accuracy with VI after Training 0.9775000214576721\n"
     ]
    }
   ],
   "source": [
    "dist_refined = Diagonal(feature_dim, out_dim, lr=lr)\n",
    "dist_refined.update_mean(torch.t(basemodel.fc3.weight)) # we update the mean but keep the variance\n",
    "\n",
    "vi_model_refined = VICNN(weight_decay=weight_decay, lr=lr, feature_dim=feature_dim)\n",
    "with torch.no_grad():\n",
    "    vi_model_refined.load_state_dict(basemodel.state_dict(), strict=False)\n",
    "\n",
    "net_refined = LLVIClassification(feature_dim, out_dim, vi_model_refined, dist_refined, prior_log_var=prior_log_var, optimizer_type=torch.optim.Adam,\n",
    "tau=tau, lr=lr)\n",
    "\n",
    "for X_batch, y_batch in test_loader:\n",
    "    predictions = net_refined(X_batch, method=PredictApprox.MONTECARLO, samples=test_samples)\n",
    "    pred_test = torch.argmax(predictions, dim=1)\n",
    "    print(\"Accuracy with VI before Training\", torch.mean((pred_test == y_batch).float()).item())\n",
    "\n",
    "net_refined_train_loss = net_refined.train_model(train_loader, epochs=vi_train_epochs, n_datapoints=n_datapoints, samples=train_samples, method=LikApprox.MONTECARLO)\n",
    "\n",
    "for X_batch, y_batch in test_loader:\n",
    "    predictions = net_refined(X_batch, method=PredictApprox.MONTECARLO, samples=test_samples)\n",
    "    pred_test = torch.argmax(predictions, dim=1)\n",
    "    print(\"Accuracy with VI after Training\", torch.mean((pred_test == y_batch).float()).item())"
   ]
  },
  {
   "cell_type": "markdown",
   "metadata": {},
   "source": [
    "## Laplace approximation and then VI estimation"
   ]
  },
  {
   "cell_type": "code",
   "execution_count": 8,
   "metadata": {},
   "outputs": [
    {
     "name": "stdout",
     "output_type": "stream",
     "text": [
      "Accuracy with Laplace 0.9703333377838135\n",
      "Accuracy with Laplace 0.9712499976158142\n"
     ]
    }
   ],
   "source": [
    "# define laplace\n",
    "laplace_model = CNN(weight_decay=weight_decay, lr=lr, out_dim=out_dim)\n",
    "laplace_model.load_state_dict(basemodel.state_dict())\n",
    "la = Laplace(laplace_model, \"classification\",\n",
    "    subset_of_weights=\"last_layer\", hessian_structure=\"diag\",\n",
    "    prior_precision=weight_decay) # prior precision is set to wdecay\n",
    "la.fit(train_loader)\n",
    "for X_batch, y_batch in test_loader:\n",
    "    predictions = la(X_batch, link_approx='mc', n_samples=test_samples)\n",
    "    pred_test = torch.argmax(predictions, dim=1)\n",
    "    print(\"Accuracy with Laplace\", torch.mean((pred_test == y_batch).float()).item())"
   ]
  },
  {
   "cell_type": "code",
   "execution_count": 9,
   "metadata": {},
   "outputs": [
    {
     "name": "stdout",
     "output_type": "stream",
     "text": [
      "Accuracy with VI before Training 0.9695000052452087\n",
      "Accuracy with VI before Training 0.9725000262260437\n"
     ]
    },
    {
     "name": "stderr",
     "output_type": "stream",
     "text": [
      "prediction_loss:0.11 kl_loss:0.07: 100%|██████████| 50/50 [05:48<00:00,  6.97s/it]\n"
     ]
    },
    {
     "name": "stdout",
     "output_type": "stream",
     "text": [
      "Accuracy with VI after Training 0.9769999980926514\n",
      "Accuracy with VI after Training 0.9777500033378601\n"
     ]
    }
   ],
   "source": [
    "dist_laplace_init = Diagonal(feature_dim, out_dim, lr=lr)\n",
    "dist_laplace_init.update_var(torch.reshape(la.posterior_variance, (feature_dim, out_dim)))\n",
    "dist_laplace_init.update_mean(torch.t(laplace_model.fc3.weight))\n",
    "\n",
    "vi_model = VICNN(weight_decay=weight_decay, lr=lr, feature_dim=feature_dim)\n",
    "with torch.no_grad():\n",
    "    vi_model.load_state_dict(laplace_model.state_dict(), strict=False)\n",
    "\n",
    "net_laplace_init = LLVIClassification(feature_dim, out_dim, vi_model, dist_laplace_init, prior_log_var=prior_log_var, optimizer_type=torch.optim.Adam,\n",
    "tau=tau, lr=lr)\n",
    "\n",
    "for X_batch, y_batch in test_loader:\n",
    "    predictions = net_laplace_init(X_batch, method=PredictApprox.MONTECARLO, samples=test_samples)\n",
    "    pred_test = torch.argmax(predictions, dim=1)\n",
    "    print(\"Accuracy with VI before Training\", torch.mean((pred_test == y_batch).float()).item())\n",
    "\n",
    "net_laplace_train_loss = net_laplace_init.train_model(train_loader, epochs=vi_train_epochs, n_datapoints=n_datapoints, samples=train_samples, method=LikApprox.MONTECARLO)\n",
    "\n",
    "for X_batch, y_batch in test_loader:\n",
    "    predictions = net_laplace_init(X_batch, method=PredictApprox.MONTECARLO, samples=test_samples)\n",
    "    pred_test = torch.argmax(predictions, dim=1)\n",
    "    print(\"Accuracy with VI after Training\", torch.mean((pred_test == y_batch).float()).item())"
   ]
  },
  {
   "cell_type": "markdown",
   "metadata": {},
   "source": [
    "## Visualization"
   ]
  },
  {
   "cell_type": "code",
   "execution_count": 18,
   "metadata": {},
   "outputs": [
    {
     "data": {
      "image/png": "[encoded data removed]",
      "text/plain": [
       "<Figure size 360x360 with 1 Axes>"
      ]
     },
     "metadata": {
      "needs_background": "light"
     },
     "output_type": "display_data"
    }
   ],
   "source": [
    "fig, axs = plt.subplots(figsize=(5,5))\n",
    "x_values = list(range(vi_train_epochs))\n",
    "axs.plot(x_values, net_refined_train_loss[\"prediction_loss\"] + net_refined_train_loss[\"kl_loss\"], label=\"Baseline\")\n",
    "axs.plot(x_values, net_laplace_train_loss[\"prediction_loss\"] + net_laplace_train_loss[\"kl_loss\"], label=\"With Laplace init\")\n",
    "axs.legend(loc = \"upper right\")\n",
    "axs.set_xlabel(\"Epoch\")\n",
    "axs.set_ylabel(\"Negative Log-Likelihood\")\n",
    "axs.set_xlim(0, 50)\n",
    "axs.set_xticks(list(axs.get_xticks()) + [50])\n",
    "axs.set_ylim(0, 2.2)\n",
    "fig.tight_layout()\n",
    "plt.savefig(\"/Users/philippvonbachmann/Documents/University/WiSe2122/ResearchProject/ResearchProjectLLVI/presentations/presentation_11_1/images/Classification/LaplaceInit\")"
   ]
  },
  {
   "cell_type": "markdown",
   "metadata": {},
   "source": [
    "## Evaluation"
   ]
  },
  {
   "cell_type": "code",
   "execution_count": 11,
   "metadata": {},
   "outputs": [],
   "source": [
    "ood_test_loader = torch.utils.data.DataLoader(\n",
    "torchvision.datasets.MNIST(filepath, train=False, download=True,\n",
    "                            transform=torchvision.transforms.Compose([\n",
    "                                torchvision.transforms.ToTensor(),\n",
    "                                torchvision.transforms.Normalize((0.1307,), (0.3081,)),\n",
    "                                torchvision.transforms.RandomHorizontalFlip(p=1)\n",
    "                            ])),\n",
    "batch_size=batch_size_test, shuffle=True)"
   ]
  },
  {
   "cell_type": "code",
   "execution_count": 12,
   "metadata": {},
   "outputs": [],
   "source": [
    "def test_confidence(predict_fun, test_loader, ood_test_loader):\n",
    "    confidence_batch = []\n",
    "    with torch.no_grad():\n",
    "        for data, target in test_loader:\n",
    "            output = predict_fun(data)\n",
    "            pred, _ = torch.max(output, dim=1) # confidence in choice\n",
    "            confidence_batch.append(torch.mean(pred))\n",
    "        print(f\"The mean confidence for in distribution data is: {sum(confidence_batch)/len(confidence_batch)}\")\n",
    "\n",
    "    ood_confidence_batch = []\n",
    "    with torch.no_grad():\n",
    "        for data, target in ood_test_loader:\n",
    "            output = predict_fun(data)\n",
    "            pred, _ = torch.max(output, dim=1) # confidence in choice\n",
    "            ood_confidence_batch.append(torch.mean(pred))\n",
    "        print(f\"The mean confidence for out-of distribution data is: {sum(ood_confidence_batch)/len(ood_confidence_batch)}\")"
   ]
  },
  {
   "cell_type": "code",
   "execution_count": 13,
   "metadata": {},
   "outputs": [],
   "source": [
    "predict_samples = 100\n",
    "la_predict_fun = lambda x: la(x, link_approx='mc', n_samples=predict_samples)\n",
    "vi_laplace_init_predict_fun = lambda x: net_laplace_init(x, method=PredictApprox.MONTECARLO, samples=100)\n",
    "vi_refined_predict_fun = lambda x: net_refined(x, method=PredictApprox.MONTECARLO, samples=100)"
   ]
  },
  {
   "cell_type": "code",
   "execution_count": 14,
   "metadata": {},
   "outputs": [
    {
     "name": "stdout",
     "output_type": "stream",
     "text": [
      "The mean confidence for in distribution data is: 0.9277576208114624\n",
      "The mean confidence for out-of distribution data is: 0.7055772542953491\n"
     ]
    }
   ],
   "source": [
    "test_confidence(la_predict_fun, test_loader, ood_test_loader)"
   ]
  },
  {
   "cell_type": "code",
   "execution_count": 15,
   "metadata": {},
   "outputs": [
    {
     "name": "stdout",
     "output_type": "stream",
     "text": [
      "The mean confidence for in distribution data is: 0.9428870677947998\n",
      "The mean confidence for out-of distribution data is: 0.7388875484466553\n"
     ]
    }
   ],
   "source": [
    "test_confidence(vi_laplace_init_predict_fun, test_loader, ood_test_loader)"
   ]
  },
  {
   "cell_type": "code",
   "execution_count": 16,
   "metadata": {},
   "outputs": [
    {
     "name": "stdout",
     "output_type": "stream",
     "text": [
      "The mean confidence for in distribution data is: 0.7291438579559326\n",
      "The mean confidence for out-of distribution data is: 0.5143829584121704\n"
     ]
    }
   ],
   "source": [
    "test_confidence(vi_refined_predict_fun, test_loader, ood_test_loader)"
   ]
  }
 ],
 "metadata": {
  "interpreter": {
   "hash": "cabe5e2adc12bc55fec3b05872858fd36eca333f32d669b1230866c442273ae7"
  },
  "kernelspec": {
   "display_name": "Python 3.9.7 64-bit ('DeepLearning': conda)",
   "language": "python",
   "name": "python3"
  },
  "language_info": {
   "codemirror_mode": {
    "name": "ipython",
    "version": 3
   },
   "file_extension": ".py",
   "mimetype": "text/x-python",
   "name": "python",
   "nbconvert_exporter": "python",
   "pygments_lexer": "ipython3",
   "version": "3.9.7"
  },
  "orig_nbformat": 4
 },
 "nbformat": 4,
 "nbformat_minor": 2
}
