{
 "cells": [
  {
   "cell_type": "code",
   "execution_count": 13,
   "metadata": {},
   "outputs": [],
   "source": [
    "import sys\n",
    "sys.path.append('/Users/philippvonbachmann/Documents/University/ResearchProject/ResearchProjectLLVI')\n",
    "import torch\n",
    "import numpy as np\n",
    "import torchvision\n",
    "from matplotlib import pyplot as plt\n",
    "torch.manual_seed(0)\n",
    "plt.rcParams.update({\n",
    "    \"text.usetex\": True,\n",
    "    \"font.size\": 16,\n",
    "    \"font.family\": \"sans-serif\",\n",
    "    \"font.sans-serif\": [\"Helvetica\"]})\n",
    "from BasicExample.src.LLVI_network import LLVI_network_diagonal, LLVI_network_KFac, Log_likelihood_type\n",
    "from BasicExample.src.basic_CNN import Net, NonBayesianNet"
   ]
  },
  {
   "cell_type": "code",
   "execution_count": 6,
   "metadata": {},
   "outputs": [
    {
     "name": "stdout",
     "output_type": "stream",
     "text": [
      "Downloading http://fashion-mnist.s3-website.eu-central-1.amazonaws.com/train-images-idx3-ubyte.gz\n",
      "Downloading http://fashion-mnist.s3-website.eu-central-1.amazonaws.com/train-images-idx3-ubyte.gz to /Users/philippvonbachmann/Documents/University/ResearchProject/ResearchProjectLLVI/BasicExample/files/FashionMNIST/raw/train-images-idx3-ubyte.gz\n"
     ]
    },
    {
     "name": "stderr",
     "output_type": "stream",
     "text": [
      "26422272it [00:01, 18511803.60it/s]                              \n"
     ]
    },
    {
     "name": "stdout",
     "output_type": "stream",
     "text": [
      "Extracting /Users/philippvonbachmann/Documents/University/ResearchProject/ResearchProjectLLVI/BasicExample/files/FashionMNIST/raw/train-images-idx3-ubyte.gz to /Users/philippvonbachmann/Documents/University/ResearchProject/ResearchProjectLLVI/BasicExample/files/FashionMNIST/raw\n",
      "\n",
      "Downloading http://fashion-mnist.s3-website.eu-central-1.amazonaws.com/train-labels-idx1-ubyte.gz\n",
      "Downloading http://fashion-mnist.s3-website.eu-central-1.amazonaws.com/train-labels-idx1-ubyte.gz to /Users/philippvonbachmann/Documents/University/ResearchProject/ResearchProjectLLVI/BasicExample/files/FashionMNIST/raw/train-labels-idx1-ubyte.gz\n"
     ]
    },
    {
     "name": "stderr",
     "output_type": "stream",
     "text": [
      "29696it [00:00, 21932391.54it/s]         \n"
     ]
    },
    {
     "name": "stdout",
     "output_type": "stream",
     "text": [
      "Extracting /Users/philippvonbachmann/Documents/University/ResearchProject/ResearchProjectLLVI/BasicExample/files/FashionMNIST/raw/train-labels-idx1-ubyte.gz to /Users/philippvonbachmann/Documents/University/ResearchProject/ResearchProjectLLVI/BasicExample/files/FashionMNIST/raw\n",
      "\n",
      "Downloading http://fashion-mnist.s3-website.eu-central-1.amazonaws.com/t10k-images-idx3-ubyte.gz\n",
      "Downloading http://fashion-mnist.s3-website.eu-central-1.amazonaws.com/t10k-images-idx3-ubyte.gz to /Users/philippvonbachmann/Documents/University/ResearchProject/ResearchProjectLLVI/BasicExample/files/FashionMNIST/raw/t10k-images-idx3-ubyte.gz\n"
     ]
    },
    {
     "name": "stderr",
     "output_type": "stream",
     "text": [
      "4422656it [00:00, 17865259.80it/s]                             \n"
     ]
    },
    {
     "name": "stdout",
     "output_type": "stream",
     "text": [
      "Extracting /Users/philippvonbachmann/Documents/University/ResearchProject/ResearchProjectLLVI/BasicExample/files/FashionMNIST/raw/t10k-images-idx3-ubyte.gz to /Users/philippvonbachmann/Documents/University/ResearchProject/ResearchProjectLLVI/BasicExample/files/FashionMNIST/raw\n",
      "\n",
      "Downloading http://fashion-mnist.s3-website.eu-central-1.amazonaws.com/t10k-labels-idx1-ubyte.gz\n",
      "Downloading http://fashion-mnist.s3-website.eu-central-1.amazonaws.com/t10k-labels-idx1-ubyte.gz to /Users/philippvonbachmann/Documents/University/ResearchProject/ResearchProjectLLVI/BasicExample/files/FashionMNIST/raw/t10k-labels-idx1-ubyte.gz\n"
     ]
    },
    {
     "name": "stderr",
     "output_type": "stream",
     "text": [
      "6144it [00:00, 22684686.42it/s]         "
     ]
    },
    {
     "name": "stdout",
     "output_type": "stream",
     "text": [
      "Extracting /Users/philippvonbachmann/Documents/University/ResearchProject/ResearchProjectLLVI/BasicExample/files/FashionMNIST/raw/t10k-labels-idx1-ubyte.gz to /Users/philippvonbachmann/Documents/University/ResearchProject/ResearchProjectLLVI/BasicExample/files/FashionMNIST/raw\n",
      "\n"
     ]
    },
    {
     "name": "stderr",
     "output_type": "stream",
     "text": [
      "\n"
     ]
    }
   ],
   "source": [
    "batch_size_train = 32\n",
    "batch_size_test = 1000\n",
    "filepath = \"/Users/philippvonbachmann/Documents/University/ResearchProject/ResearchProjectLLVI/BasicExample/files\"\n",
    "download = False\n",
    "train_loader = torch.utils.data.DataLoader(\n",
    "  torchvision.datasets.MNIST(filepath, train=True, download=download,\n",
    "                            transform=torchvision.transforms.Compose([\n",
    "                              torchvision.transforms.ToTensor(),\n",
    "                              torchvision.transforms.Normalize(\n",
    "                                (0.1307,), (0.3081,))\n",
    "                            ])),\n",
    "  batch_size=batch_size_train, shuffle=True)\n",
    "n_datapoints = batch_size_train * len(train_loader)\n",
    "\n",
    "test_loader = torch.utils.data.DataLoader(\n",
    "torchvision.datasets.MNIST(filepath, train=False, download=download,\n",
    "                            transform=torchvision.transforms.Compose([\n",
    "                            torchvision.transforms.ToTensor(),\n",
    "                            torchvision.transforms.Normalize(\n",
    "                                (0.1307,), (0.3081,))\n",
    "                            ])),\n",
    "batch_size=batch_size_test, shuffle=True)\n",
    "\n",
    "ood_test_loader = torch.utils.data.DataLoader(\n",
    "torchvision.datasets.FashionMNIST(filepath, train=False, download=True,\n",
    "                            transform=torchvision.transforms.Compose([\n",
    "                                torchvision.transforms.ToTensor(),\n",
    "                                torchvision.transforms.Normalize((0.1307,), (0.3081,))#,\n",
    "                                # torchvision.transforms.RandomHorizontalFlip(p=1)\n",
    "                            ])),\n",
    "batch_size=batch_size_test, shuffle=True)"
   ]
  },
  {
   "cell_type": "code",
   "execution_count": 7,
   "metadata": {},
   "outputs": [],
   "source": [
    "raw_minst = torch.utils.data.DataLoader(\n",
    "torchvision.datasets.MNIST(filepath, train=False, download=download,\n",
    "                            transform=torchvision.transforms.Compose([\n",
    "                            torchvision.transforms.ToTensor(),\n",
    "                            torchvision.transforms.Normalize(\n",
    "                                (0.1307,), (0.3081,))\n",
    "                            ])),\n",
    "batch_size=5000, shuffle=True)"
   ]
  },
  {
   "cell_type": "code",
   "execution_count": 8,
   "metadata": {},
   "outputs": [],
   "source": [
    "def test_confidence(model, test_loader, ood_test_loader, foward_pass_function):\n",
    "    model.eval()\n",
    "    confidence_batch = torch.zeros(len(test_loader))\n",
    "    accuracy_batch = torch.zeros(len(test_loader))\n",
    "    with torch.no_grad():\n",
    "        for index, (data, target) in enumerate(test_loader):\n",
    "            output_probs = foward_pass_function(data)\n",
    "            pred, class_pred = torch.max(output_probs, dim=1) # confidence in choice\n",
    "            confidence_batch[index] = torch.mean(pred)\n",
    "            accuracy = (class_pred == target).float().mean()\n",
    "            accuracy_batch[index] = accuracy\n",
    "        print(f\"The mean confidence for in distribution data is: {sum(confidence_batch)/len(confidence_batch)}\")\n",
    "        print(\"Mean accuracy:\", torch.mean(accuracy_batch).item())\n",
    "\n",
    "    ood_confidence_batch = torch.zeros(len(ood_test_loader))\n",
    "    ood_accuracy_batch = torch.zeros(len(test_loader))\n",
    "    with torch.no_grad():\n",
    "        for index, (data, target) in enumerate(ood_test_loader):\n",
    "            output_probs= foward_pass_function(data)\n",
    "            pred, class_pred = torch.max(output_probs, dim=1) # confidence in choice\n",
    "            ood_confidence_batch[index] = torch.mean(pred)\n",
    "            accuracy = (class_pred == target).float().mean()\n",
    "            ood_accuracy_batch[index] = accuracy\n",
    "        print(f\"The mean confidence for out-of distribution data is: {sum(ood_confidence_batch)/len(ood_confidence_batch)}\")\n",
    "        print(\"Mean ood accuracy:\", torch.mean(ood_accuracy_batch).item())"
   ]
  },
  {
   "cell_type": "code",
   "execution_count": 9,
   "metadata": {},
   "outputs": [],
   "source": [
    "def calculate_calibration(model, test_loader, bin_size, predict_fun):\n",
    "    model.eval()\n",
    "    n_bins = int(1/bin_size)\n",
    "    # bins = torch.linspace(bin_size, 1, n_bins)\n",
    "    # bin_predictions = [None] * 10\n",
    "    bin_calibration = [[] for _ in range(n_bins)]\n",
    "    with torch.no_grad():\n",
    "        for index, (data, target) in enumerate(test_loader):\n",
    "            output_probs = predict_fun(data)\n",
    "            pred_conf, class_pred = torch.max(output_probs, dim=1) # confidence in choice\n",
    "            for bin_index in range(1, n_bins+1):\n",
    "                pred_index = (pred_conf <(bin_index * bin_size)).nonzero(as_tuple=True)[0]\n",
    "                bin_pred = class_pred[pred_index]\n",
    "                bin_target = target[pred_index]\n",
    "                bin_calibration[bin_index-1] += list(bin_pred == bin_target)\n",
    "\n",
    "    returnvalue = []\n",
    "    for i in range(n_bins):\n",
    "        if len(bin_calibration[i]) > 0:\n",
    "            returnvalue.append(sum(bin_calibration[i])/len(bin_calibration[i]))\n",
    "        else:\n",
    "            returnvalue.append(0)\n",
    "\n",
    "    return torch.linspace(bin_size, 1, n_bins), returnvalue\n",
    "\n",
    "            \n"
   ]
  },
  {
   "cell_type": "code",
   "execution_count": 10,
   "metadata": {},
   "outputs": [],
   "source": [
    "def visualize_calibration(model, data_loader, predict_fun, ax, bin_size=0.1):\n",
    "    ax.set_title(model.model_config[\"kernel_name\"])\n",
    "    x, calibration = calculate_calibration(model, data_loader, predict_fun=predict_fun, bin_size=bin_size)\n",
    "    ax.bar(x, calibration, width=bin_size*0.9)\n",
    "    ax.axline((0,0), (1,1), color=\"red\")\n",
    "    ax.set_xlim(0,1)\n",
    "    ax.set_ylim(0,1)\n",
    "    ax.set_xticks(x)\n",
    "    ax.set_xlabel(\"Confidence\")\n",
    "    ax.set_ylabel(\"Accuracy\")\n",
    "    "
   ]
  },
  {
   "cell_type": "code",
   "execution_count": 14,
   "metadata": {},
   "outputs": [],
   "source": [
    "non_bayes_net = NonBayesianNet()\n",
    "# non_bayes_net.train_model(train_loader, epochs=40);\n",
    "non_bayes_net.load_state_dict(torch.load(\"/Users/philippvonbachmann/Documents/University/ResearchProject/ResearchProjectLLVI/BasicExample/files/models/MNIST/Baseline/epoch_40.pt\"))\n",
    "non_bayes_net.model_config = {\"kernel_name\": \"Baseline\"}"
   ]
  },
  {
   "cell_type": "code",
   "execution_count": 15,
   "metadata": {},
   "outputs": [
    {
     "name": "stdout",
     "output_type": "stream",
     "text": [
      "The mean confidence for in distribution data is: 0.9930669069290161\n",
      "Mean accuracy: 0.9918999671936035\n",
      "The mean confidence for out-of distribution data is: 0.5066167712211609\n",
      "Mean ood accuracy: 0.11729999631643295\n"
     ]
    }
   ],
   "source": [
    "test_confidence(non_bayes_net, test_loader, ood_test_loader, non_bayes_net.predict)"
   ]
  },
  {
   "cell_type": "code",
   "execution_count": 15,
   "metadata": {},
   "outputs": [],
   "source": [
    "torch.save(non_bayes_net.state_dict(), \"/Users/philippvonbachmann/Documents/University/ResearchProject/ResearchProjectLLVI/BasicExample/files/models/MNIST/Baseline/epoch_40.pt\")"
   ]
  },
  {
   "cell_type": "code",
   "execution_count": 39,
   "metadata": {},
   "outputs": [
    {
     "data": {
      "text/plain": [
       "'/Users/philippvonbachmann/Documents/University/ResearchProject/ResearchProjectLLVI/BasicExample/files/models/MNIST/10-11-2021_17-42-55'"
      ]
     },
     "execution_count": 39,
     "metadata": {},
     "output_type": "execute_result"
    }
   ],
   "source": [
    "Diag_net.save(\"/Users/philippvonbachmann/Documents/University/ResearchProject/ResearchProjectLLVI/BasicExample/files/models/MNIST/Diagonal\")"
   ]
  },
  {
   "cell_type": "code",
   "execution_count": 17,
   "metadata": {},
   "outputs": [],
   "source": [
    "# test the diagonal gaussian net\n",
    "feature_extractor_net = Net()\n",
    "Diag_net = LLVI_network_diagonal(feature_extractor=feature_extractor_net,\n",
    "    feature_dim=50, out_dim= 10,\n",
    "    prior_mu=0, prior_log_var=-3,\n",
    "    init_ll_mu=0,init_ll_log_var=0,\n",
    "    lr=5e-3, tau=1, bias=False, loss=Log_likelihood_type.CATEGORICAL, data_log_var=None)\n",
    "\n",
    "# Diag_net.train_model(train_loader, len(train_loader) * batch_size_train, epochs=20, samples=1, train_hyper=True);\n",
    "Diag_net.load(\"/Users/philippvonbachmann/Documents/University/ResearchProject/ResearchProjectLLVI/BasicExample/files/models/MNIST/Diagonal/10-11-2021_17-42-55\")"
   ]
  },
  {
   "cell_type": "code",
   "execution_count": 18,
   "metadata": {},
   "outputs": [
    {
     "name": "stdout",
     "output_type": "stream",
     "text": [
      "The mean confidence for in distribution data is: 0.9794427156448364\n",
      "Mean accuracy: 0.9829999804496765\n",
      "The mean confidence for out-of distribution data is: 0.2893161475658417\n",
      "Mean ood accuracy: 0.1177000179886818\n"
     ]
    }
   ],
   "source": [
    "test_confidence(Diag_net, test_loader, ood_test_loader, Diag_net.predict_softmax_classification)"
   ]
  },
  {
   "cell_type": "code",
   "execution_count": 19,
   "metadata": {},
   "outputs": [
    {
     "data": {
      "image/png": "[encoded data removed]",
      "text/plain": [
       "<Figure size 720x360 with 2 Axes>"
      ]
     },
     "metadata": {
      "needs_background": "light"
     },
     "output_type": "display_data"
    }
   ],
   "source": [
    "fig, axs = plt.subplots(1,2, sharex=True, sharey=True, figsize=(10,5))\n",
    "axs_flat = axs.flat\n",
    "visualize_calibration(non_bayes_net, raw_minst, non_bayes_net.predict, next(axs_flat))\n",
    "visualize_calibration(Diag_net, raw_minst, Diag_net.predict_softmax_classification, next(axs_flat))\n",
    "fig.savefig(\"/Users/philippvonbachmann/Documents/University/ResearchProject/ResearchProjectLLVI/presentations/shortpresentation_13_11/images/MNIST/calibration.jpg\")"
   ]
  }
 ],
 "metadata": {
  "interpreter": {
   "hash": "cabe5e2adc12bc55fec3b05872858fd36eca333f32d669b1230866c442273ae7"
  },
  "kernelspec": {
   "display_name": "Python 3.9.7 64-bit ('DeepLearning': conda)",
   "language": "python",
   "name": "python3"
  },
  "language_info": {
   "codemirror_mode": {
    "name": "ipython",
    "version": 3
   },
   "file_extension": ".py",
   "mimetype": "text/x-python",
   "name": "python",
   "nbconvert_exporter": "python",
   "pygments_lexer": "ipython3",
   "version": "3.9.7"
  },
  "orig_nbformat": 4
 },
 "nbformat": 4,
 "nbformat_minor": 2
}
