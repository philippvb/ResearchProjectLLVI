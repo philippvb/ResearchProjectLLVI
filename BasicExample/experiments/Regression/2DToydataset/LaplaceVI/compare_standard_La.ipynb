{
 "cells": [
  {
   "cell_type": "code",
   "execution_count": 1,
   "metadata": {},
   "outputs": [],
   "source": [
    "import sys\n",
    "import torch\n",
    "sys.path.append(\"/Users/philippvonbachmann/Documents/University/WiSe2122/ResearchProject/ResearchProjectLLVI/BasicExample\")\n",
    "from src.log_likelihood import LogLikelihoodMonteCarlo\n",
    "from datasets.Regression.toydataset import create_dataset, sinus_mapping, dataset_to_loader, visualize_predictions, to_loader\n",
    "from src.network.feature_extractor import FC_Net\n",
    "from src.network import LikApprox\n",
    "from torch import nn\n",
    "from backpack import backpack, extend\n",
    "from backpack.extensions import DiagHessian, DiagGGNExact, DiagGGNMC\n",
    "from torch.autograd import grad\n",
    "from tqdm import tqdm\n",
    "from src.laplace import LaplaceVI\n",
    "from matplotlib import pyplot as plt\n",
    "import copy\n",
    "\n",
    "torch.manual_seed(3)\n",
    "\n",
    "data_noise = 0.2\n",
    "n_datapoints = 256\n",
    "x_train, y_train, x_test, y_test = create_dataset(lower=-5, upper=7, mapping=sinus_mapping,cluster_pos=[-0.5, 2], data_noise=data_noise, n_datapoints=n_datapoints)\n",
    "batch_size = 16\n",
    "train_set, test_set = dataset_to_loader(x_train, y_train, x_test, y_test , batch_size=16)"
   ]
  },
  {
   "cell_type": "markdown",
   "metadata": {},
   "source": [
    "### Parameters"
   ]
  },
  {
   "cell_type": "code",
   "execution_count": 2,
   "metadata": {},
   "outputs": [],
   "source": [
    "lr = 1e-3\n",
    "epochs = 500\n",
    "tau = 10"
   ]
  },
  {
   "cell_type": "markdown",
   "metadata": {},
   "source": [
    "### Model definition"
   ]
  },
  {
   "cell_type": "code",
   "execution_count": 3,
   "metadata": {},
   "outputs": [],
   "source": [
    "feature_extractor = torch.nn.Sequential(\n",
    "        torch.nn.Linear(1, 100),\n",
    "        torch.nn.Tanh(),\n",
    "        torch.nn.Linear(100, 200),\n",
    "        torch.nn.Tanh()\n",
    ")\n",
    "model = LaplaceVI(200, 1, feature_extractor, tau=tau, lr=lr)\n",
    "baseline_model = copy.deepcopy(model)\n",
    "baseline_model.tau = 0"
   ]
  },
  {
   "cell_type": "markdown",
   "metadata": {},
   "source": [
    "### Training"
   ]
  },
  {
   "cell_type": "code",
   "execution_count": 4,
   "metadata": {},
   "outputs": [
    {
     "name": "stderr",
     "output_type": "stream",
     "text": [
      "loss:0.14 entropy:491.55: 100%|██████████| 500/500 [00:37<00:00, 13.30it/s]\n",
      "loss:0.13 entropy:704.31: 100%|██████████| 500/500 [00:45<00:00, 11.05it/s]\n"
     ]
    }
   ],
   "source": [
    "tracking_baseline, trajectories_baseline = baseline_model.train_model_with_trajectories(train_set, n_datapoints, epochs);\n",
    "tracking_la, trajectories_la = model.train_model_with_trajectories(train_set, n_datapoints, epochs);"
   ]
  },
  {
   "cell_type": "markdown",
   "metadata": {},
   "source": [
    "### Plotting"
   ]
  },
  {
   "cell_type": "code",
   "execution_count": 5,
   "metadata": {},
   "outputs": [],
   "source": [
    "\n",
    "from sklearn.decomposition import PCA\n",
    "from matplotlib import pyplot as plt\n",
    "\n",
    "def plot_trajectories(traj, axs, splits, labels=(\"Baseline\", \"Laplace\"), color=[\"red\", \"blue\"]):\n",
    "    pca = PCA(n_components=2)\n",
    "    projection = pca.fit_transform(traj)\n",
    "    for idx, (start, end) in enumerate(zip([0]+splits, splits+[2*epochs-1])):\n",
    "        axs.scatter(projection[start:end, 0], projection[start:end, 1], s=1, label=labels[idx], color=color[idx], zorder=10)\n",
    "        mid = start+int((end-start)/2)\n",
    "        axs.arrow(projection[mid][0], projection[mid][1], (projection[mid+1] - projection[mid])[0], (projection[mid+1] - projection[mid])[1])\n",
    "    return projection, pca\n",
    "\n",
    "@torch.no_grad()\n",
    "def plot_loss(pca:PCA, baseline_model:LaplaceVI, x_bounds, y_bounds, dataset, axs, steps=10):\n",
    "    loss_fun = torch.nn.MSELoss(reduction=\"sum\")\n",
    "    old_params = baseline_model.ll_model[-1].weight.data.detach().clone()\n",
    "    x_lin = torch.linspace(x_bounds[0], x_bounds[1], steps=steps)\n",
    "    y_lin = torch.linspace(y_bounds[0], y_bounds[1], steps=steps)\n",
    "    loss_grid = torch.zeros((steps, steps))\n",
    "    for idx, x in enumerate(x_lin):\n",
    "        for idy, y in enumerate(y_lin):\n",
    "            new_weights = pca.inverse_transform(torch.tensor([x,y]))\n",
    "            baseline_model.ll_model[-1].weight.data = torch.unsqueeze(torch.from_numpy(new_weights).float(), dim=0)\n",
    "            for data, target in dataset:\n",
    "                loss_grid[idx, idy] += loss_fun(baseline_model(data), target)\n",
    "    loss_grid /= n_datapoints\n",
    "    baseline_model.ll_model[-1].weight.data = old_params\n",
    "    return axs.contourf(x_lin, y_lin, loss_grid, zorder=0, alpha=0.5)\n",
    "\n",
    "\n",
    "        \n",
    "    "
   ]
  },
  {
   "cell_type": "code",
   "execution_count": 6,
   "metadata": {},
   "outputs": [
    {
     "data": {
      "text/plain": [
       "<matplotlib.colorbar.Colorbar at 0x1413dc640>"
      ]
     },
     "execution_count": 6,
     "metadata": {},
     "output_type": "execute_result"
    },
    {
     "data": {
      "image/png": "[encoded data removed]",
      "text/plain": [
       "<Figure size 432x288 with 2 Axes>"
      ]
     },
     "metadata": {
      "needs_background": "light"
     },
     "output_type": "display_data"
    }
   ],
   "source": [
    "from matplotlib import pyplot as plt\n",
    "# from src.utils.plotting import plot_trajectories\n",
    "fig, axs = plt.subplots(1)\n",
    "projection, pca = plot_trajectories(torch.cat([trajectories_baseline, trajectories_la], dim=0), axs,\n",
    " splits = [epochs]);\n",
    "axs.legend()\n",
    "expansion = 1.1\n",
    "cmap = plot_loss(pca, baseline_model, (axs.get_xlim()[0]*expansion,axs.get_xlim()[1]*expansion), (axs.get_ylim()[0]*expansion, axs.get_xlim()[1]*expansion), train_set, axs, steps=20)\n",
    "fig.colorbar(cmap, ax=axs, ticks=[0.1, 0.2, 0.3, 0.4, 0.5])"
   ]
  }
 ],
 "metadata": {
  "interpreter": {
   "hash": "cabe5e2adc12bc55fec3b05872858fd36eca333f32d669b1230866c442273ae7"
  },
  "kernelspec": {
   "display_name": "Python 3.9.7 ('DeepLearning')",
   "language": "python",
   "name": "python3"
  },
  "language_info": {
   "codemirror_mode": {
    "name": "ipython",
    "version": 3
   },
   "file_extension": ".py",
   "mimetype": "text/x-python",
   "name": "python",
   "nbconvert_exporter": "python",
   "pygments_lexer": "ipython3",
   "version": "3.9.7"
  },
  "orig_nbformat": 4
 },
 "nbformat": 4,
 "nbformat_minor": 2
}
