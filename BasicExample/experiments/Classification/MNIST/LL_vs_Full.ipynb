{
 "cells": [
  {
   "cell_type": "code",
   "execution_count": 1,
   "metadata": {},
   "outputs": [],
   "source": [
    "import sys\n",
    "import torch\n",
    "from torch import nn, optim\n",
    "import torchvision\n",
    "from matplotlib import pyplot as plt\n",
    "\n",
    "sys.path.append(\"/Users/philippvonbachmann/Documents/University/WiSe2122/ResearchProject/ResearchProjectLLVI/BasicExample\")\n",
    "\n",
    "from src.network import LikApprox\n",
    "from src.network import PredictApprox\n",
    "from src.weight_distribution.Diagonal import Diagonal\n",
    "from src.weight_distribution.Full import FullCovariance\n",
    "from src.network.Classification import LLVIClassification\n",
    "\n",
    "sys.path.append(\"/Users/philippvonbachmann/Documents/University/WiSe2122/ResearchProject/ResearchProjectLLVI\")\n",
    "from BNN_Comparison.TyXe import tyxe\n",
    "from pyro import distributions as pyro_dist\n",
    "import pyro\n",
    "plt.rcParams.update({\n",
    "    \"text.usetex\": True,\n",
    "    \"font.size\": 14,\n",
    "    \"font.family\": \"sans-serif\",\n",
    "    \"font.sans-serif\": [\"Helvetica\"]})\n",
    "%matplotlib inline\n",
    "from datetime import datetime\n",
    "import pandas as pd\n",
    "import math"
   ]
  },
  {
   "cell_type": "code",
   "execution_count": 2,
   "metadata": {},
   "outputs": [
    {
     "name": "stderr",
     "output_type": "stream",
     "text": [
      "/opt/homebrew/Caskroom/miniforge/base/envs/DeepLearning/lib/python3.9/site-packages/torchvision/datasets/mnist.py:498: UserWarning: The given NumPy array is not writeable, and PyTorch does not support non-writeable tensors. This means you can write to the underlying (supposedly non-writeable) NumPy array using the tensor. You may want to copy the array to protect its data or make it writeable before converting it to a tensor. This type of warning will be suppressed for the rest of this program. (Triggered internally at  /Users/runner/miniforge3/conda-bld/pytorch-recipe_1635217266490/work/torch/csrc/utils/tensor_numpy.cpp:189.)\n",
      "  return torch.from_numpy(parsed.astype(m[2], copy=False)).view(*s)\n"
     ]
    }
   ],
   "source": [
    "batch_size_train = 32\n",
    "filepath = \"/Users/philippvonbachmann/Documents/University/WiSe2122/ResearchProject/ResearchProjectLLVI/BasicExample/datasets/Classification\"\n",
    "dataset = torchvision.datasets.MNIST(filepath, train=True, download=False,\n",
    "                            transform=torchvision.transforms.Compose([\n",
    "                              torchvision.transforms.ToTensor(),\n",
    "                              torchvision.transforms.Normalize(\n",
    "                                (0.1307,), (0.3081,))\n",
    "                            ]))\n",
    "train_size = int(0.5 * len(dataset))\n",
    "rest_size = len(dataset) - train_size                            \n",
    "dataset, _ = torch.utils.data.random_split(dataset, [train_size, rest_size])\n",
    "train_loader = torch.utils.data.DataLoader(dataset,\n",
    "  batch_size=batch_size_train, shuffle=True)\n",
    "n_datapoints = batch_size_train * len(train_loader)"
   ]
  },
  {
   "cell_type": "code",
   "execution_count": 3,
   "metadata": {},
   "outputs": [],
   "source": [
    "test_dataset = torchvision.datasets.MNIST(filepath, train=False, download=False,\n",
    "                            transform=torchvision.transforms.Compose([\n",
    "                            torchvision.transforms.ToTensor(),\n",
    "                            torchvision.transforms.Normalize(\n",
    "                                (0.1307,), (0.3081,))\n",
    "                            ]))\n",
    "batch_size_test = 1000\n",
    "test_size = 1000\n",
    "rest_size = len(test_dataset) - test_size                            \n",
    "test_dataset, _ = torch.utils.data.random_split(test_dataset, [test_size, rest_size])\n",
    "test_loader = torch.utils.data.DataLoader(test_dataset,\n",
    "batch_size=batch_size_test, shuffle=True)\n",
    "n_test_datapoints = batch_size_test * len(test_loader)"
   ]
  },
  {
   "cell_type": "code",
   "execution_count": 4,
   "metadata": {},
   "outputs": [],
   "source": [
    "tracking_cols = [\"Epoch time\", \"NLL\"]"
   ]
  },
  {
   "cell_type": "code",
   "execution_count": 5,
   "metadata": {},
   "outputs": [],
   "source": [
    "class EpochTimeStamp:\n",
    "    def __init__(self):\n",
    "        self.epoch_start_time = datetime.now()\n",
    "    \n",
    "    def get_delta(self):\n",
    "        return (datetime.now() - self.epoch_start_time).total_seconds()\n",
    "\n",
    "    def update(self):\n",
    "        self.epoch_start_time = datetime.now()"
   ]
  },
  {
   "cell_type": "markdown",
   "metadata": {},
   "source": [
    "## Model"
   ]
  },
  {
   "cell_type": "code",
   "execution_count": 6,
   "metadata": {},
   "outputs": [],
   "source": [
    "class CNN(nn.Module):\n",
    "    def __init__(self, out_dim=10, optimizer=optim.Adam, **optim_kwargs):\n",
    "        super().__init__()\n",
    "        self.conv1 = nn.Conv2d(1, 6, 5)\n",
    "        self.pool = nn.MaxPool2d(2, 2)\n",
    "        self.conv2 = nn.Conv2d(6, 16, 5)\n",
    "        self.fc1 = nn.Linear(256, 120)\n",
    "        self.fc2 = nn.Linear(120, 50)\n",
    "        self.fc3 = nn.Linear(50, out_dim, bias=False)\n",
    "        self.optimizer: optim = optimizer(self.parameters(), **optim_kwargs)\n",
    "        self.nonll = torch.sigmoid # nonlinear layer\n",
    "\n",
    "    def forward(self, x):\n",
    "        x = self.pool(self.nonll(self.conv1(x)))\n",
    "        x = self.pool(self.nonll(self.conv2(x)))\n",
    "        x = torch.flatten(x, 1) # flatten all dimensions except batch\n",
    "        x = self.nonll(self.fc1(x))\n",
    "        x = self.nonll(self.fc2(x))\n",
    "        x = self.fc3(x)\n",
    "        return x \n",
    "\n",
    "\n",
    "class VICNN(nn.Module):\n",
    "    def __init__(self, feature_dim=50, optimizer=optim.Adam, **optim_kwargs):\n",
    "        super().__init__()\n",
    "        self.conv1 = nn.Conv2d(1, 6, 5)\n",
    "        self.pool = nn.MaxPool2d(2, 2)\n",
    "        self.conv2 = nn.Conv2d(6, 16, 5)\n",
    "        self.fc1 = nn.Linear(256, 120)\n",
    "        self.fc2 = nn.Linear(120, feature_dim)\n",
    "        self.optimizer: optim = optimizer(self.parameters(), **optim_kwargs)\n",
    "        self.nonll = torch.sigmoid # nonlinear layer\n",
    "\n",
    "    def forward(self, x):\n",
    "        x = self.pool(self.nonll(self.conv1(x)))\n",
    "        x = self.pool(self.nonll(self.conv2(x)))\n",
    "        x = torch.flatten(x, 1) # flatten all dimensions except batch\n",
    "        x = self.nonll(self.fc1(x))\n",
    "        x = self.nonll(self.fc2(x))\n",
    "        return x"
   ]
  },
  {
   "cell_type": "code",
   "execution_count": 7,
   "metadata": {},
   "outputs": [],
   "source": [
    "# general parameters\n",
    "feature_dim = 50\n",
    "out_dim = 10\n",
    "weight_decay = 1e-3\n",
    "lr = 1e-3\n",
    "tau = 1\n",
    "prior_log_var = 0 #math.log(1/(weight_decay * n_datapoints))\n",
    "epochs=20\n",
    "train_samples_full = 1\n",
    "train_samples_ll = 1\n",
    "test_samples = 10"
   ]
  },
  {
   "cell_type": "markdown",
   "metadata": {},
   "source": [
    "## Last-layer Model"
   ]
  },
  {
   "cell_type": "code",
   "execution_count": 8,
   "metadata": {},
   "outputs": [],
   "source": [
    "torch.manual_seed(3)\n",
    "ll_vifeature_extractor = VICNN(lr=lr, weight_decay=weight_decay, feature_dim=feature_dim)\n",
    "\n",
    "dist = Diagonal(feature_dim, out_dim, lr=lr, init_log_var=-3)\n",
    "\n",
    "llvi_net = LLVIClassification(feature_dim, out_dim, ll_vifeature_extractor, dist, prior_log_var=prior_log_var,\n",
    "tau=tau, lr=lr)"
   ]
  },
  {
   "cell_type": "code",
   "execution_count": 9,
   "metadata": {},
   "outputs": [],
   "source": [
    "@torch.no_grad()\n",
    "def callback_fun(model, validation_set, n_datapoints, tracking_list, epoch_time_stamp: EpochTimeStamp):\n",
    "    epoch_time = epoch_time_stamp.get_delta() # get epoch time\n",
    "    total_loss = 0\n",
    "    loss_metric = torch.nn.NLLLoss(reduction=\"mean\")\n",
    "    for data, target in validation_set:\n",
    "        prediction = model(data, method=PredictApprox.MONTECARLO, samples=test_samples)\n",
    "        prediction = torch.log(prediction) # need logsoftmax for nll loss\n",
    "        total_loss += loss_metric(prediction, target).item()\n",
    "    total_loss/= len(validation_set)\n",
    "    \n",
    "    tracking_list.loc[len(tracking_list)] = [epoch_time, total_loss]\n",
    "    epoch_time_stamp.update() # update start time for new epoch\n"
   ]
  },
  {
   "cell_type": "code",
   "execution_count": 10,
   "metadata": {},
   "outputs": [
    {
     "name": "stderr",
     "output_type": "stream",
     "text": [
      "prediction_loss:0.11 kl_loss:0.03: 100%|██████████| 20/20 [02:36<00:00,  7.80s/it]\n"
     ]
    }
   ],
   "source": [
    "ll_tracking = pd.DataFrame(columns=tracking_cols)\n",
    "ll_epoch_start = EpochTimeStamp()\n",
    "llvi_validation_fun = lambda x: callback_fun(llvi_net, test_loader, n_test_datapoints, ll_tracking, ll_epoch_start)\n",
    "llvi_net.train_model(train_loader, epochs=epochs, n_datapoints=n_datapoints, method=LikApprox.MONTECARLO, callback=llvi_validation_fun, samples=train_samples_ll);"
   ]
  },
  {
   "cell_type": "markdown",
   "metadata": {},
   "source": [
    "## Full layer model"
   ]
  },
  {
   "cell_type": "code",
   "execution_count": 11,
   "metadata": {},
   "outputs": [],
   "source": [
    "import functools"
   ]
  },
  {
   "cell_type": "code",
   "execution_count": 12,
   "metadata": {},
   "outputs": [],
   "source": [
    "torch.manual_seed(1)\n",
    "full_net = CNN(lr=lr, weight_decay=weight_decay, out_dim=out_dim)\n",
    "prior = tyxe.priors.IIDPrior(pyro_dist.Normal(0, math.exp(prior_log_var)))\n",
    "kl_div_scaling_factor=1 #1/tau\n",
    "likelihood = tyxe.likelihoods.Categorical(n_datapoints * kl_div_scaling_factor)\n",
    "inference = tyxe.guides.AutoNormal #  functools.partial(tyxe.guides.AutoNormal, init_scale=1e-4)\n",
    "full_bnn = tyxe.VariationalBNN(full_net, prior, likelihood, inference)"
   ]
  },
  {
   "cell_type": "code",
   "execution_count": 13,
   "metadata": {},
   "outputs": [],
   "source": [
    "full_vi_tracking = pd.DataFrame(columns=tracking_cols)\n",
    "\n",
    "@torch.no_grad()\n",
    "def full_layer_val_fun(_, epoch, elbo, epoch_time_stamp: EpochTimeStamp):\n",
    "    epoch_time = epoch_time_stamp.get_delta()\n",
    "    print(f\"Epoch {epoch}, ELBO loss {elbo} \", end=\"\\r\")\n",
    "    total_loss = 0\n",
    "    loss_metric = torch.nn.NLLLoss(reduction=\"mean\")\n",
    "    for data, target in test_loader:\n",
    "        prediction = full_bnn.predict(data, num_predictions=test_samples)\n",
    "        prediction = torch.log_softmax(prediction, dim=-1)\n",
    "        total_loss += loss_metric(prediction, target).item()\n",
    "    total_loss/= len(test_loader)\n",
    "    print(f\"Epoch {epoch}, NLL validation loss {total_loss} \")\n",
    "    full_vi_tracking.loc[len(full_vi_tracking)] = [epoch_time, total_loss]\n",
    "    epoch_time_stamp.update()\n",
    "    "
   ]
  },
  {
   "cell_type": "code",
   "execution_count": 14,
   "metadata": {},
   "outputs": [
    {
     "name": "stdout",
     "output_type": "stream",
     "text": [
      "Epoch 0, NLL validation loss 0.2988550364971161 \n",
      "Epoch 1, NLL validation loss 0.2048950493335724 \n",
      "Epoch 2, NLL validation loss 0.19502149522304535 \n",
      "Epoch 3, NLL validation loss 0.1614372730255127 \n",
      "Epoch 4, NLL validation loss 0.15181125700473785 \n",
      "Epoch 5, NLL validation loss 0.13684791326522827 \n",
      "Epoch 6, NLL validation loss 0.12634630501270294 \n",
      "Epoch 7, NLL validation loss 0.13187381625175476 \n",
      "Epoch 8, NLL validation loss 0.12294889241456985 \n",
      "Epoch 9, NLL validation loss 0.11885110288858414 \n",
      "Epoch 10, NLL validation loss 0.11361338198184967 \n",
      "Epoch 11, NLL validation loss 0.11252504587173462 \n",
      "Epoch 12, NLL validation loss 0.11627831310033798 \n",
      "Epoch 13, NLL validation loss 0.10672041028738022 \n",
      "Epoch 14, NLL validation loss 0.10409169644117355 \n",
      "Epoch 15, NLL validation loss 0.09530125558376312 \n",
      "Epoch 16, NLL validation loss 0.09581828862428665 \n",
      "Epoch 17, NLL validation loss 0.10020394623279572 \n",
      "Epoch 18, NLL validation loss 0.09175652265548706 \n",
      "Epoch 19, NLL validation loss 0.09325935691595078 \n"
     ]
    }
   ],
   "source": [
    "optim = pyro.optim.Adam({\"lr\": 1e-3})\n",
    "full_epoch_start = EpochTimeStamp()\n",
    "full_layer_callback = lambda x,y,z: full_layer_val_fun(x,y,z, full_epoch_start)\n",
    "with tyxe.poutine.local_reparameterization():\n",
    "    full_bnn.fit(train_loader, optim, num_epochs=epochs, callback=full_layer_callback, num_particles=train_samples_full)"
   ]
  },
  {
   "cell_type": "markdown",
   "metadata": {},
   "source": [
    "### OOD performance"
   ]
  },
  {
   "cell_type": "code",
   "execution_count": 25,
   "metadata": {},
   "outputs": [],
   "source": [
    "ood_test_loader = torch.utils.data.DataLoader(\n",
    "torchvision.datasets.MNIST(filepath, train=False, download=False,\n",
    "                            transform=torchvision.transforms.Compose([\n",
    "                                torchvision.transforms.ToTensor(),\n",
    "                                torchvision.transforms.Normalize((0.1307,), (0.3081,)),\n",
    "                                torchvision.transforms.RandomHorizontalFlip(p=1)\n",
    "                            ])),\n",
    "batch_size=batch_size_test, shuffle=True)"
   ]
  },
  {
   "cell_type": "code",
   "execution_count": 26,
   "metadata": {},
   "outputs": [],
   "source": [
    "def test_confidence(prediction_fun, test_loader, ood_test_loader=None):\n",
    "    confidence_batch = []\n",
    "    with torch.no_grad():\n",
    "        for data, target in test_loader:\n",
    "            output = prediction_fun(data)\n",
    "            pred, _ = torch.max(output, dim=1) # confidence in choice\n",
    "            confidence_batch.append(torch.mean(pred))\n",
    "        print(f\"The mean confidence for in distribution data is: {sum(confidence_batch)/len(confidence_batch)}\")\n",
    "\n",
    "    ood_confidence_batch = []\n",
    "    with torch.no_grad():\n",
    "        for data, target in ood_test_loader:\n",
    "            output = prediction_fun(data)\n",
    "            pred, _ = torch.max(output, dim=1) # confidence in choice\n",
    "            ood_confidence_batch.append(torch.mean(pred))\n",
    "        print(f\"The mean confidence for out-of distribution data is: {sum(ood_confidence_batch)/len(ood_confidence_batch)}\")"
   ]
  },
  {
   "cell_type": "code",
   "execution_count": 27,
   "metadata": {},
   "outputs": [
    {
     "name": "stdout",
     "output_type": "stream",
     "text": [
      "The mean confidence for in distribution data is: 0.9424384832382202\n",
      "The mean confidence for out-of distribution data is: 0.7209051847457886\n"
     ]
    }
   ],
   "source": [
    "ll_pred_fun = lambda data: llvi_net(data, method=PredictApprox.MONTECARLO, samples=test_samples)\n",
    "test_confidence(ll_pred_fun, test_loader, ood_test_loader)"
   ]
  },
  {
   "cell_type": "code",
   "execution_count": 30,
   "metadata": {},
   "outputs": [
    {
     "name": "stdout",
     "output_type": "stream",
     "text": [
      "The mean confidence for in distribution data is: 0.9359976649284363\n",
      "The mean confidence for out-of distribution data is: 0.6834145784378052\n"
     ]
    }
   ],
   "source": [
    "full_pred_fun = lambda data: torch.mean(torch.softmax(full_bnn.predict(data, num_predictions=test_samples, aggregate=False), dim=-1), dim=0)\n",
    "test_confidence(full_pred_fun, test_loader, ood_test_loader)"
   ]
  },
  {
   "cell_type": "markdown",
   "metadata": {},
   "source": [
    "### NLL vs Time"
   ]
  },
  {
   "cell_type": "code",
   "execution_count": 32,
   "metadata": {},
   "outputs": [
    {
     "data": {
      "image/png": "[encoded data removed]",
      "text/plain": [
       "<Figure size 432x288 with 1 Axes>"
      ]
     },
     "metadata": {
      "needs_background": "light"
     },
     "output_type": "display_data"
    }
   ],
   "source": [
    "fig, axs = plt.subplots()\n",
    "axs.plot(ll_tracking[\"Epoch time\"].cumsum(), ll_tracking[\"NLL\"], label=\"Last-Layer\")\n",
    "axs.plot(full_vi_tracking[\"Epoch time\"].cumsum(), full_vi_tracking[\"NLL\"], label=\"Full-Layer\")\n",
    "axs.legend()\n",
    "axs.set_xlabel(\"Time (s)\")\n",
    "axs.set_ylabel(\"NLL\")\n",
    "axs.set_ylim(0.05, 0.5)\n",
    "plt.savefig(\"/Users/philippvonbachmann/Documents/University/WiSe2122/ResearchProject/ResearchProjectLLVI/presentations/presentation_11_1/images/Classification/LLvsFull.jpg\")"
   ]
  },
  {
   "cell_type": "markdown",
   "metadata": {},
   "source": [
    "### MSE vs Epoch"
   ]
  },
  {
   "cell_type": "code",
   "execution_count": 16,
   "metadata": {},
   "outputs": [
    {
     "data": {
      "text/plain": [
       "(0.0, 0.25)"
      ]
     },
     "execution_count": 16,
     "metadata": {},
     "output_type": "execute_result"
    },
    {
     "data": {
      "image/png": "[encoded data removed]",
      "text/plain": [
       "<Figure size 432x288 with 1 Axes>"
      ]
     },
     "metadata": {
      "needs_background": "light"
     },
     "output_type": "display_data"
    }
   ],
   "source": [
    "fig, axs = plt.subplots()\n",
    "axs.plot(list(range(len(ll_tracking))), ll_tracking[\"NLL\"], label=\"Last-Layer\")\n",
    "axs.plot(list(range(len(full_vi_tracking))), full_vi_tracking[\"NLL\"], label=\"Full-Layer\")\n",
    "axs.legend()\n",
    "axs.set_xlabel(\"Epoch\")\n",
    "axs.set_ylabel(\"NLL\")\n",
    "axs.set_ylim(0, 0.25)"
   ]
  }
 ],
 "metadata": {
  "interpreter": {
   "hash": "cabe5e2adc12bc55fec3b05872858fd36eca333f32d669b1230866c442273ae7"
  },
  "kernelspec": {
   "display_name": "Python 3.9.7 64-bit ('DeepLearning': conda)",
   "language": "python",
   "name": "python3"
  },
  "language_info": {
   "codemirror_mode": {
    "name": "ipython",
    "version": 3
   },
   "file_extension": ".py",
   "mimetype": "text/x-python",
   "name": "python",
   "nbconvert_exporter": "python",
   "pygments_lexer": "ipython3",
   "version": "3.9.7"
  },
  "orig_nbformat": 4
 },
 "nbformat": 4,
 "nbformat_minor": 2
}
