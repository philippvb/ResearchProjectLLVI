{
 "cells": [
  {
   "cell_type": "code",
   "execution_count": 1,
   "metadata": {},
   "outputs": [],
   "source": [
    "import sys\n",
    "sys.path.append('/Users/philippvonbachmann/Documents/University/ResearchProject/ResearchProjectLLVI')\n",
    "import torch\n",
    "import numpy as np\n",
    "import torchvision\n",
    "from matplotlib import pyplot as plt\n",
    "torch.manual_seed(0)\n",
    "plt.rcParams.update({\n",
    "    \"text.usetex\": True,\n",
    "    \"font.size\": 16,\n",
    "    \"font.family\": \"sans-serif\",\n",
    "    \"font.sans-serif\": [\"Helvetica\"]})\n",
    "from BasicExample.src.LLVI_network import LLVI_network_diagonal, LLVI_network_KFac, Log_likelihood_type\n",
    "from BasicExample.src.basic_CNN import Net, NonBayesianNet"
   ]
  },
  {
   "cell_type": "code",
   "execution_count": 13,
   "metadata": {},
   "outputs": [],
   "source": [
    "batch_size_train = 32\n",
    "batch_size_test = 1000\n",
    "filepath = \"/Users/philippvonbachmann/Documents/University/ResearchProject/ResearchProjectLLVI/BasicExample/files\"\n",
    "download = False\n",
    "train_loader = torch.utils.data.DataLoader(\n",
    "  torchvision.datasets.MNIST(filepath, train=True, download=download,\n",
    "                            transform=torchvision.transforms.Compose([\n",
    "                              torchvision.transforms.ToTensor(),\n",
    "                              torchvision.transforms.Normalize(\n",
    "                                (0.1307,), (0.3081,))\n",
    "                            ])),\n",
    "  batch_size=batch_size_train, shuffle=True)\n",
    "n_datapoints = batch_size_train * len(train_loader)\n",
    "\n",
    "test_loader = torch.utils.data.DataLoader(\n",
    "torchvision.datasets.MNIST(filepath, train=False, download=download,\n",
    "                            transform=torchvision.transforms.Compose([\n",
    "                            torchvision.transforms.ToTensor(),\n",
    "                            torchvision.transforms.Normalize(\n",
    "                                (0.1307,), (0.3081,))\n",
    "                            ])),\n",
    "batch_size=batch_size_test, shuffle=True)\n",
    "\n",
    "ood_test_loader = torch.utils.data.DataLoader(\n",
    "torchvision.datasets.FashionMNIST(filepath, train=False, download=True,\n",
    "                            transform=torchvision.transforms.Compose([\n",
    "                                torchvision.transforms.ToTensor(),\n",
    "                                torchvision.transforms.Normalize((0.1307,), (0.3081,))#,\n",
    "                                # torchvision.transforms.RandomHorizontalFlip(p=1)\n",
    "                            ])),\n",
    "batch_size=batch_size_test, shuffle=True)\n",
    "\n",
    "# ood_test_loader = torch.utils.data.DataLoader(\n",
    "# torchvision.datasets.MNIST(filepath, train=False, download=True,\n",
    "#                             transform=torchvision.transforms.Compose([\n",
    "#                                 torchvision.transforms.ToTensor(),\n",
    "#                                 torchvision.transforms.Normalize((0.1307,), (0.3081,)),\n",
    "#                                 torchvision.transforms.RandomHorizontalFlip(p=1)\n",
    "#                             ])),\n",
    "# batch_size=batch_size_test, shuffle=True)"
   ]
  },
  {
   "cell_type": "code",
   "execution_count": 3,
   "metadata": {},
   "outputs": [],
   "source": [
    "raw_minst = torch.utils.data.DataLoader(\n",
    "torchvision.datasets.MNIST(filepath, train=False, download=download,\n",
    "                            transform=torchvision.transforms.Compose([\n",
    "                            torchvision.transforms.ToTensor(),\n",
    "                            torchvision.transforms.Normalize(\n",
    "                                (0.1307,), (0.3081,))\n",
    "                            ])),\n",
    "batch_size=5000, shuffle=True)"
   ]
  },
  {
   "cell_type": "code",
   "execution_count": 4,
   "metadata": {},
   "outputs": [],
   "source": [
    "def test_confidence(model, test_loader, ood_test_loader, foward_pass_function):\n",
    "    model.eval()\n",
    "    confidence_batch = torch.zeros(len(test_loader))\n",
    "    accuracy_batch = torch.zeros(len(test_loader))\n",
    "    with torch.no_grad():\n",
    "        for index, (data, target) in enumerate(test_loader):\n",
    "            output_probs = foward_pass_function(data)\n",
    "            pred, class_pred = torch.max(output_probs, dim=1) # confidence in choice\n",
    "            confidence_batch[index] = torch.mean(pred)\n",
    "            accuracy = (class_pred == target).float().mean()\n",
    "            accuracy_batch[index] = accuracy\n",
    "        print(f\"The mean confidence for in distribution data is: {sum(confidence_batch)/len(confidence_batch)}\")\n",
    "        print(\"Mean accuracy:\", torch.mean(accuracy_batch).item())\n",
    "\n",
    "    ood_confidence_batch = torch.zeros(len(ood_test_loader))\n",
    "    ood_accuracy_batch = torch.zeros(len(test_loader))\n",
    "    with torch.no_grad():\n",
    "        for index, (data, target) in enumerate(ood_test_loader):\n",
    "            output_probs= foward_pass_function(data)\n",
    "            pred, class_pred = torch.max(output_probs, dim=1) # confidence in choice\n",
    "            ood_confidence_batch[index] = torch.mean(pred)\n",
    "            accuracy = (class_pred == target).float().mean()\n",
    "            ood_accuracy_batch[index] = accuracy\n",
    "        print(f\"The mean confidence for out-of distribution data is: {sum(ood_confidence_batch)/len(ood_confidence_batch)}\")\n",
    "        print(\"Mean ood accuracy:\", torch.mean(ood_accuracy_batch).item())"
   ]
  },
  {
   "cell_type": "code",
   "execution_count": 5,
   "metadata": {},
   "outputs": [],
   "source": [
    "def calculate_calibration(model, test_loader, bin_size, predict_fun):\n",
    "    model.eval()\n",
    "    n_bins = int(1/bin_size)\n",
    "    # bins = torch.linspace(bin_size, 1, n_bins)\n",
    "    # bin_predictions = [None] * 10\n",
    "    bin_calibration = [[] for _ in range(n_bins)]\n",
    "    with torch.no_grad():\n",
    "        for index, (data, target) in enumerate(test_loader):\n",
    "            output_probs = predict_fun(data)\n",
    "            pred_conf, class_pred = torch.max(output_probs, dim=1) # confidence in choice\n",
    "            for bin_index in range(1, n_bins+1):\n",
    "                pred_index = (pred_conf <(bin_index * bin_size)).nonzero(as_tuple=True)[0]\n",
    "                bin_pred = class_pred[pred_index]\n",
    "                bin_target = target[pred_index]\n",
    "                bin_calibration[bin_index-1] += list(bin_pred == bin_target)\n",
    "\n",
    "    returnvalue = []\n",
    "    for i in range(n_bins):\n",
    "        if len(bin_calibration[i]) > 0:\n",
    "            returnvalue.append(sum(bin_calibration[i])/len(bin_calibration[i]))\n",
    "        else:\n",
    "            returnvalue.append(0)\n",
    "\n",
    "    return torch.linspace(bin_size, 1, n_bins), returnvalue\n",
    "\n",
    "            \n"
   ]
  },
  {
   "cell_type": "code",
   "execution_count": 6,
   "metadata": {},
   "outputs": [],
   "source": [
    "def visualize_calibration(model, data_loader, predict_fun, ax, bin_size=0.1):\n",
    "    ax.set_title(model.model_config[\"kernel_name\"])\n",
    "    x, calibration = calculate_calibration(model, data_loader, predict_fun=predict_fun, bin_size=bin_size)\n",
    "    ax.bar(x, calibration, width=bin_size*0.9)\n",
    "    ax.axline((0,0), (1,1), color=\"red\")\n",
    "    ax.set_xlim(0,1)\n",
    "    ax.set_ylim(0,1)\n",
    "    ax.set_xticks(x)\n",
    "    ax.set_xlabel(\"Confidence\")\n",
    "    ax.set_ylabel(\"Accuracy\")\n",
    "    "
   ]
  },
  {
   "cell_type": "markdown",
   "metadata": {},
   "source": [
    "## Baseline"
   ]
  },
  {
   "cell_type": "code",
   "execution_count": 7,
   "metadata": {},
   "outputs": [],
   "source": [
    "non_bayes_net = NonBayesianNet()\n",
    "# non_bayes_net.train_model(train_loader, epochs=40);\n",
    "non_bayes_net.load_state_dict(torch.load(\"/Users/philippvonbachmann/Documents/University/ResearchProject/ResearchProjectLLVI/BasicExample/files/models/MNIST/Baseline/epoch_40.pt\"))\n",
    "non_bayes_net.model_config = {\"kernel_name\": \"Baseline\"}"
   ]
  },
  {
   "cell_type": "code",
   "execution_count": 14,
   "metadata": {},
   "outputs": [
    {
     "name": "stdout",
     "output_type": "stream",
     "text": [
      "The mean confidence for in distribution data is: 0.9930667877197266\n",
      "Mean accuracy: 0.9919000864028931\n",
      "The mean confidence for out-of distribution data is: 0.5066167712211609\n",
      "Mean ood accuracy: 0.11729999631643295\n"
     ]
    }
   ],
   "source": [
    "test_confidence(non_bayes_net, test_loader, ood_test_loader, non_bayes_net.predict)"
   ]
  },
  {
   "cell_type": "code",
   "execution_count": 9,
   "metadata": {},
   "outputs": [],
   "source": [
    "# torch.save(non_bayes_net.state_dict(), \"/Users/philippvonbachmann/Documents/University/ResearchProject/ResearchProjectLLVI/BasicExample/files/models/MNIST/Baseline/epoch_40.pt\")"
   ]
  },
  {
   "cell_type": "markdown",
   "metadata": {},
   "source": [
    "## Diagonal"
   ]
  },
  {
   "cell_type": "code",
   "execution_count": 10,
   "metadata": {},
   "outputs": [
    {
     "name": "stderr",
     "output_type": "stream",
     "text": [
      "Loss:0.44, Data LogLik:0.29, KL Loss:0.15: 100%|██████████| 20/20 [09:14<00:00, 27.72s/it]\n"
     ]
    }
   ],
   "source": [
    "# test the diagonal gaussian net\n",
    "feature_extractor_net = Net()\n",
    "Diag_net = LLVI_network_diagonal(feature_extractor=feature_extractor_net,\n",
    "    feature_dim=50, out_dim= 10,\n",
    "    prior_mu=0, prior_log_var=-3,\n",
    "    init_ll_mu=0,init_ll_log_var=0,\n",
    "    lr=5e-3, tau=1, bias=False, loss=Log_likelihood_type.CATEGORICAL, data_log_var=None)\n",
    "\n",
    "Diag_net.train_model(train_loader, len(train_loader) * batch_size_train, epochs=20, samples=5, train_hyper=True);\n",
    "# Diag_net.load(\"/Users/philippvonbachmann/Documents/University/ResearchProject/ResearchProjectLLVI/BasicExample/files/models/MNIST/Diagonal/10-11-2021_17-42-55\")"
   ]
  },
  {
   "cell_type": "code",
   "execution_count": 15,
   "metadata": {},
   "outputs": [
    {
     "name": "stdout",
     "output_type": "stream",
     "text": [
      "The mean confidence for in distribution data is: 0.9787785410881042\n",
      "Mean accuracy: 0.9852999448776245\n",
      "The mean confidence for out-of distribution data is: 0.24645361304283142\n",
      "Mean ood accuracy: 0.09480001032352448\n"
     ]
    }
   ],
   "source": [
    "test_confidence(Diag_net, test_loader, ood_test_loader, Diag_net.predict_softmax_classification)"
   ]
  },
  {
   "cell_type": "code",
   "execution_count": 16,
   "metadata": {},
   "outputs": [
    {
     "data": {
      "text/plain": [
       "'/Users/philippvonbachmann/Documents/University/ResearchProject/ResearchProjectLLVI/BasicExample/files/models/MNIST/Diagonal/11-11-2021_10-36-47'"
      ]
     },
     "execution_count": 16,
     "metadata": {},
     "output_type": "execute_result"
    }
   ],
   "source": [
    "# Diag_net.save(\"/Users/philippvonbachmann/Documents/University/ResearchProject/ResearchProjectLLVI/BasicExample/files/models/MNIST/Diagonal\")"
   ]
  },
  {
   "cell_type": "markdown",
   "metadata": {},
   "source": [
    "## Full Covariance"
   ]
  },
  {
   "cell_type": "code",
   "execution_count": 12,
   "metadata": {},
   "outputs": [
    {
     "name": "stderr",
     "output_type": "stream",
     "text": [
      "Loss:2.35, Data LogLik:2.3, KL Loss:0.04:  20%|██        | 4/20 [03:51<15:26, 57.89s/it]\n"
     ]
    },
    {
     "ename": "KeyboardInterrupt",
     "evalue": "",
     "output_type": "error",
     "traceback": [
      "\u001b[0;31m---------------------------------------------------------------------------\u001b[0m",
      "\u001b[0;31mKeyboardInterrupt\u001b[0m                         Traceback (most recent call last)",
      "\u001b[0;32m/var/folders/07/l3_khs3x2n1c8glbln1c071h0000gn/T/ipykernel_44734/2064975793.py\u001b[0m in \u001b[0;36m<module>\u001b[0;34m\u001b[0m\n\u001b[1;32m      7\u001b[0m tau=0.1, lr=5e-3,  bias=False, loss=Log_likelihood_type.CATEGORICAL, data_log_var=None)\n\u001b[1;32m      8\u001b[0m \u001b[0;34m\u001b[0m\u001b[0m\n\u001b[0;32m----> 9\u001b[0;31m \u001b[0mfull_cov_model\u001b[0m\u001b[0;34m.\u001b[0m\u001b[0mtrain_model\u001b[0m\u001b[0;34m(\u001b[0m\u001b[0mtrain_loader\u001b[0m\u001b[0;34m,\u001b[0m \u001b[0mn_datapoints\u001b[0m\u001b[0;34m=\u001b[0m\u001b[0mlen\u001b[0m\u001b[0;34m(\u001b[0m\u001b[0mtrain_loader\u001b[0m\u001b[0;34m)\u001b[0m \u001b[0;34m*\u001b[0m \u001b[0mbatch_size_train\u001b[0m\u001b[0;34m,\u001b[0m \u001b[0mepochs\u001b[0m\u001b[0;34m=\u001b[0m\u001b[0;36m20\u001b[0m\u001b[0;34m,\u001b[0m \u001b[0msamples\u001b[0m\u001b[0;34m=\u001b[0m\u001b[0;36m5\u001b[0m\u001b[0;34m,\u001b[0m \u001b[0mtrain_hyper\u001b[0m\u001b[0;34m=\u001b[0m\u001b[0;32mTrue\u001b[0m\u001b[0;34m,\u001b[0m \u001b[0mupdate_freq\u001b[0m\u001b[0;34m=\u001b[0m\u001b[0;36m5\u001b[0m\u001b[0;34m)\u001b[0m\u001b[0;34m\u001b[0m\u001b[0;34m\u001b[0m\u001b[0m\n\u001b[0m",
      "\u001b[0;32m~/Documents/University/ResearchProject/ResearchProjectLLVI/BasicExample/src/LLVI_network.py\u001b[0m in \u001b[0;36mtrain_model\u001b[0;34m(self, train_loader, n_datapoints, epochs, samples, train_hyper, update_freq)\u001b[0m\n\u001b[1;32m    315\u001b[0m             \u001b[0;32mreturn\u001b[0m \u001b[0mprediction_loss\u001b[0m\u001b[0;34m,\u001b[0m \u001b[0mkl_loss\u001b[0m\u001b[0;34m\u001b[0m\u001b[0;34m\u001b[0m\u001b[0m\n\u001b[1;32m    316\u001b[0m \u001b[0;34m\u001b[0m\u001b[0m\n\u001b[0;32m--> 317\u001b[0;31m         \u001b[0;32mreturn\u001b[0m \u001b[0mself\u001b[0m\u001b[0;34m.\u001b[0m\u001b[0mtrain_wrapper\u001b[0m\u001b[0;34m(\u001b[0m\u001b[0mepochs\u001b[0m\u001b[0;34m=\u001b[0m\u001b[0mepochs\u001b[0m\u001b[0;34m,\u001b[0m \u001b[0mtrain_loader\u001b[0m\u001b[0;34m=\u001b[0m\u001b[0mtrain_loader\u001b[0m\u001b[0;34m,\u001b[0m \u001b[0mn_datapoints\u001b[0m\u001b[0;34m=\u001b[0m\u001b[0mn_datapoints\u001b[0m\u001b[0;34m,\u001b[0m \u001b[0msamples\u001b[0m\u001b[0;34m=\u001b[0m\u001b[0msamples\u001b[0m\u001b[0;34m,\u001b[0m \u001b[0mtrain_step_fun\u001b[0m\u001b[0;34m=\u001b[0m\u001b[0mtrain_step_fun\u001b[0m\u001b[0;34m,\u001b[0m \u001b[0mtrain_hyper\u001b[0m\u001b[0;34m=\u001b[0m\u001b[0mtrain_hyper\u001b[0m\u001b[0;34m,\u001b[0m \u001b[0mupdate_freq\u001b[0m\u001b[0;34m=\u001b[0m\u001b[0mupdate_freq\u001b[0m\u001b[0;34m)\u001b[0m\u001b[0;34m\u001b[0m\u001b[0;34m\u001b[0m\u001b[0m\n\u001b[0m\u001b[1;32m    318\u001b[0m \u001b[0;34m\u001b[0m\u001b[0m\n\u001b[1;32m    319\u001b[0m \u001b[0;34m\u001b[0m\u001b[0m\n",
      "\u001b[0;32m~/Documents/University/ResearchProject/ResearchProjectLLVI/BasicExample/src/LLVI_network.py\u001b[0m in \u001b[0;36mtrain_wrapper\u001b[0;34m(self, epochs, train_loader, train_hyper, update_freq, n_datapoints, samples, train_step_fun)\u001b[0m\n\u001b[1;32m    281\u001b[0m             \u001b[0;32mfor\u001b[0m \u001b[0mbatch_id\u001b[0m\u001b[0;34m,\u001b[0m \u001b[0;34m(\u001b[0m\u001b[0mdata\u001b[0m\u001b[0;34m,\u001b[0m \u001b[0mtarget\u001b[0m\u001b[0;34m)\u001b[0m \u001b[0;32min\u001b[0m \u001b[0menumerate\u001b[0m\u001b[0;34m(\u001b[0m\u001b[0mtrain_loader\u001b[0m\u001b[0;34m)\u001b[0m\u001b[0;34m:\u001b[0m\u001b[0;34m\u001b[0m\u001b[0;34m\u001b[0m\u001b[0m\n\u001b[1;32m    282\u001b[0m                 \u001b[0;31m# forward pass\u001b[0m\u001b[0;34m\u001b[0m\u001b[0;34m\u001b[0m\u001b[0m\n\u001b[0;32m--> 283\u001b[0;31m                 \u001b[0mprediction_loss\u001b[0m\u001b[0;34m,\u001b[0m \u001b[0mkl_loss\u001b[0m \u001b[0;34m=\u001b[0m \u001b[0mtrain_step_fun\u001b[0m\u001b[0;34m(\u001b[0m\u001b[0mdata\u001b[0m\u001b[0;34m,\u001b[0m \u001b[0mtarget\u001b[0m\u001b[0;34m)\u001b[0m\u001b[0;34m\u001b[0m\u001b[0;34m\u001b[0m\u001b[0m\n\u001b[0m\u001b[1;32m    284\u001b[0m                 \u001b[0;31m# logging\u001b[0m\u001b[0;34m\u001b[0m\u001b[0;34m\u001b[0m\u001b[0m\n\u001b[1;32m    285\u001b[0m                 \u001b[0;32mwith\u001b[0m \u001b[0mtorch\u001b[0m\u001b[0;34m.\u001b[0m\u001b[0mno_grad\u001b[0m\u001b[0;34m(\u001b[0m\u001b[0;34m)\u001b[0m\u001b[0;34m:\u001b[0m\u001b[0;34m\u001b[0m\u001b[0;34m\u001b[0m\u001b[0m\n",
      "\u001b[0;32m~/Documents/University/ResearchProject/ResearchProjectLLVI/BasicExample/src/LLVI_network.py\u001b[0m in \u001b[0;36mtrain_step_fun\u001b[0;34m(data, target)\u001b[0m\n\u001b[1;32m    310\u001b[0m             \u001b[0mloss\u001b[0m \u001b[0;34m=\u001b[0m \u001b[0mprediction_loss\u001b[0m \u001b[0;34m+\u001b[0m \u001b[0mkl_loss\u001b[0m\u001b[0;34m\u001b[0m\u001b[0;34m\u001b[0m\u001b[0m\n\u001b[1;32m    311\u001b[0m             \u001b[0;31m# backward pass\u001b[0m\u001b[0;34m\u001b[0m\u001b[0;34m\u001b[0m\u001b[0m\n\u001b[0;32m--> 312\u001b[0;31m             \u001b[0mloss\u001b[0m\u001b[0;34m.\u001b[0m\u001b[0mbackward\u001b[0m\u001b[0;34m(\u001b[0m\u001b[0;34m)\u001b[0m\u001b[0;34m\u001b[0m\u001b[0;34m\u001b[0m\u001b[0m\n\u001b[0m\u001b[1;32m    313\u001b[0m             \u001b[0mself\u001b[0m\u001b[0;34m.\u001b[0m\u001b[0mll_optimizer\u001b[0m\u001b[0;34m.\u001b[0m\u001b[0mstep\u001b[0m\u001b[0;34m(\u001b[0m\u001b[0;34m)\u001b[0m\u001b[0;34m\u001b[0m\u001b[0;34m\u001b[0m\u001b[0m\n\u001b[1;32m    314\u001b[0m             \u001b[0mself\u001b[0m\u001b[0;34m.\u001b[0m\u001b[0mfeature_extractor_optimizer\u001b[0m\u001b[0;34m.\u001b[0m\u001b[0mstep\u001b[0m\u001b[0;34m(\u001b[0m\u001b[0;34m)\u001b[0m\u001b[0;34m\u001b[0m\u001b[0;34m\u001b[0m\u001b[0m\n",
      "\u001b[0;32m/opt/homebrew/Caskroom/miniforge/base/envs/DeepLearning/lib/python3.9/site-packages/torch/_tensor.py\u001b[0m in \u001b[0;36mbackward\u001b[0;34m(self, gradient, retain_graph, create_graph, inputs)\u001b[0m\n\u001b[1;32m    305\u001b[0m                 \u001b[0mcreate_graph\u001b[0m\u001b[0;34m=\u001b[0m\u001b[0mcreate_graph\u001b[0m\u001b[0;34m,\u001b[0m\u001b[0;34m\u001b[0m\u001b[0;34m\u001b[0m\u001b[0m\n\u001b[1;32m    306\u001b[0m                 inputs=inputs)\n\u001b[0;32m--> 307\u001b[0;31m         \u001b[0mtorch\u001b[0m\u001b[0;34m.\u001b[0m\u001b[0mautograd\u001b[0m\u001b[0;34m.\u001b[0m\u001b[0mbackward\u001b[0m\u001b[0;34m(\u001b[0m\u001b[0mself\u001b[0m\u001b[0;34m,\u001b[0m \u001b[0mgradient\u001b[0m\u001b[0;34m,\u001b[0m \u001b[0mretain_graph\u001b[0m\u001b[0;34m,\u001b[0m \u001b[0mcreate_graph\u001b[0m\u001b[0;34m,\u001b[0m \u001b[0minputs\u001b[0m\u001b[0;34m=\u001b[0m\u001b[0minputs\u001b[0m\u001b[0;34m)\u001b[0m\u001b[0;34m\u001b[0m\u001b[0;34m\u001b[0m\u001b[0m\n\u001b[0m\u001b[1;32m    308\u001b[0m \u001b[0;34m\u001b[0m\u001b[0m\n\u001b[1;32m    309\u001b[0m     \u001b[0;32mdef\u001b[0m \u001b[0mregister_hook\u001b[0m\u001b[0;34m(\u001b[0m\u001b[0mself\u001b[0m\u001b[0;34m,\u001b[0m \u001b[0mhook\u001b[0m\u001b[0;34m)\u001b[0m\u001b[0;34m:\u001b[0m\u001b[0;34m\u001b[0m\u001b[0;34m\u001b[0m\u001b[0m\n",
      "\u001b[0;32m/opt/homebrew/Caskroom/miniforge/base/envs/DeepLearning/lib/python3.9/site-packages/torch/autograd/__init__.py\u001b[0m in \u001b[0;36mbackward\u001b[0;34m(tensors, grad_tensors, retain_graph, create_graph, grad_variables, inputs)\u001b[0m\n\u001b[1;32m    152\u001b[0m         \u001b[0mretain_graph\u001b[0m \u001b[0;34m=\u001b[0m \u001b[0mcreate_graph\u001b[0m\u001b[0;34m\u001b[0m\u001b[0;34m\u001b[0m\u001b[0m\n\u001b[1;32m    153\u001b[0m \u001b[0;34m\u001b[0m\u001b[0m\n\u001b[0;32m--> 154\u001b[0;31m     Variable._execution_engine.run_backward(\n\u001b[0m\u001b[1;32m    155\u001b[0m         \u001b[0mtensors\u001b[0m\u001b[0;34m,\u001b[0m \u001b[0mgrad_tensors_\u001b[0m\u001b[0;34m,\u001b[0m \u001b[0mretain_graph\u001b[0m\u001b[0;34m,\u001b[0m \u001b[0mcreate_graph\u001b[0m\u001b[0;34m,\u001b[0m \u001b[0minputs\u001b[0m\u001b[0;34m,\u001b[0m\u001b[0;34m\u001b[0m\u001b[0;34m\u001b[0m\u001b[0m\n\u001b[1;32m    156\u001b[0m         allow_unreachable=True, accumulate_grad=True)  # allow_unreachable flag\n",
      "\u001b[0;31mKeyboardInterrupt\u001b[0m: "
     ]
    }
   ],
   "source": [
    "feature_extractor_full_cov = Net()\n",
    "full_cov_model = LLVI_network_KFac(feature_extractor=feature_extractor_full_cov,\n",
    "feature_dim=50, out_dim=10,\n",
    "A_dim = 50, B_dim=10,\n",
    "prior_mu=0, prior_log_var=-3,\n",
    "init_ll_mu=0, init_ll_cov_scaling=0.5,\n",
    "tau=0.1, lr=5e-3,  bias=False, loss=Log_likelihood_type.CATEGORICAL, data_log_var=None)\n",
    "\n",
    "full_cov_model.train_model(train_loader, n_datapoints=len(train_loader) * batch_size_train, epochs=20, samples=5, train_hyper=True, update_freq=5)"
   ]
  },
  {
   "cell_type": "markdown",
   "metadata": {},
   "source": [
    "## Evaluation"
   ]
  },
  {
   "cell_type": "code",
   "execution_count": 12,
   "metadata": {},
   "outputs": [
    {
     "data": {
      "image/png": "[encoded data removed]",
      "text/plain": [
       "<Figure size 720x360 with 2 Axes>"
      ]
     },
     "metadata": {
      "needs_background": "light"
     },
     "output_type": "display_data"
    }
   ],
   "source": [
    "fig, axs = plt.subplots(1,2, sharex=True, sharey=True, figsize=(10,5))\n",
    "axs_flat = axs.flat\n",
    "visualize_calibration(non_bayes_net, raw_minst, non_bayes_net.predict, next(axs_flat))\n",
    "visualize_calibration(Diag_net, raw_minst, Diag_net.predict_softmax_classification, next(axs_flat))\n",
    "# fig.savefig(\"/Users/philippvonbachmann/Documents/University/ResearchProject/ResearchProjectLLVI/presentations/shortpresentation_13_11/images/MNIST/calibration.jpg\")"
   ]
  }
 ],
 "metadata": {
  "interpreter": {
   "hash": "cabe5e2adc12bc55fec3b05872858fd36eca333f32d669b1230866c442273ae7"
  },
  "kernelspec": {
   "display_name": "Python 3.9.7 64-bit ('DeepLearning': conda)",
   "language": "python",
   "name": "python3"
  },
  "language_info": {
   "codemirror_mode": {
    "name": "ipython",
    "version": 3
   },
   "file_extension": ".py",
   "mimetype": "text/x-python",
   "name": "python",
   "nbconvert_exporter": "python",
   "pygments_lexer": "ipython3",
   "version": "3.9.7"
  },
  "orig_nbformat": 4
 },
 "nbformat": 4,
 "nbformat_minor": 2
}
