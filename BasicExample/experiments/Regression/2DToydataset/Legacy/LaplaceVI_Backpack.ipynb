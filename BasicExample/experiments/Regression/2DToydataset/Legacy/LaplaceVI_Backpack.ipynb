{
 "cells": [
  {
   "cell_type": "code",
   "execution_count": 13,
   "metadata": {},
   "outputs": [],
   "source": [
    "import sys\n",
    "import torch\n",
    "sys.path.append(\"/Users/philippvonbachmann/Documents/University/WiSe2122/ResearchProject/ResearchProjectLLVI/BasicExample\")\n",
    "from src.log_likelihood import LogLikelihoodMonteCarlo\n",
    "from datasets.Regression.toydataset import create_dataset, sinus_mapping, dataset_to_loader, visualize_predictions\n",
    "\n",
    "torch.manual_seed(5)\n",
    "\n",
    "data_noise = 0.2\n",
    "x_train, y_train, x_test, y_test = create_dataset(lower=-5, upper=7, mapping=sinus_mapping,cluster_pos=[-0.5,2], data_noise=data_noise, n_datapoints=256)\n",
    "\n",
    "lr = 1e-4\n",
    "\n",
    "from src.network.Regression import LLVIRegression\n",
    "batch_size = 16\n",
    "random_permutation = torch.randperm(len(x_train))\n",
    "x_batch = torch.split(torch.unsqueeze(x_train[random_permutation], dim=1), batch_size)\n",
    "y_batch =  torch.split(torch.unsqueeze(y_train[random_permutation], dim=1), batch_size)\n",
    "train_set, test_set = dataset_to_loader(x_train, y_train, x_test, y_test , batch_size=16)"
   ]
  },
  {
   "cell_type": "code",
   "execution_count": 14,
   "metadata": {},
   "outputs": [],
   "source": [
    "# from src.network.feature_extractor import FC_Net_2\n",
    "from backpack import backpack, extend\n",
    "laplace_model = torch.nn.Sequential(\n",
    "        torch.nn.Linear(1, 100),\n",
    "        torch.nn.ReLU(),\n",
    "        torch.nn.Linear(100, 1)\n",
    ")\n",
    "loss_fun = torch.nn.MSELoss(reduction=\"mean\")\n",
    "optimizer = torch.optim.Adam(laplace_model.parameters())\n",
    "extend(laplace_model)\n",
    "extend(loss_fun);"
   ]
  },
  {
   "cell_type": "code",
   "execution_count": 15,
   "metadata": {},
   "outputs": [],
   "source": [
    "loss = loss_fun(laplace_model(torch.unsqueeze(x_train, dim=-1)), torch.unsqueeze(y_train, dim=-1))"
   ]
  },
  {
   "cell_type": "code",
   "execution_count": 16,
   "metadata": {},
   "outputs": [
    {
     "data": {
      "text/plain": [
       "tensor(0.5232, grad_fn=<BackwardHookFunctionBackward>)"
      ]
     },
     "execution_count": 16,
     "metadata": {},
     "output_type": "execute_result"
    }
   ],
   "source": [
    "loss"
   ]
  },
  {
   "cell_type": "code",
   "execution_count": 17,
   "metadata": {},
   "outputs": [],
   "source": [
    "from backpack.extensions import (\n",
    "    GGNMP,\n",
    "    HMP,\n",
    "    KFAC,\n",
    "    KFLR,\n",
    "    KFRA,\n",
    "    PCHMP,\n",
    "    BatchDiagGGNExact,\n",
    "    BatchDiagGGNMC,\n",
    "    BatchDiagHessian,\n",
    "    BatchGrad,\n",
    "    BatchL2Grad,\n",
    "    DiagGGNExact,\n",
    "    DiagGGNMC,\n",
    "    DiagHessian,\n",
    "    SqrtGGNExact,\n",
    "    SqrtGGNMC,\n",
    "    SumGradSquared,\n",
    "    Variance,\n",
    ")"
   ]
  },
  {
   "cell_type": "code",
   "execution_count": 18,
   "metadata": {},
   "outputs": [],
   "source": [
    "from torch.autograd import grad\n",
    "with backpack(DiagGGNExact()):\n",
    "    grads = grad(loss, laplace_model.parameters(), create_graph=True, retain_graph=True)[0]"
   ]
  },
  {
   "cell_type": "code",
   "execution_count": 19,
   "metadata": {},
   "outputs": [],
   "source": [
    "# with backpack(DiagGGNExact()):\n",
    "#     loss.backward(create_graph=True)\n",
    "# for name, param in laplace_model.named_parameters():\n",
    "#     # print(name)\n",
    "#     print(\".grad.shape:             \", param.grad)\n",
    "#     print(\".diag_h.shape:           \", param.diag_h, name)\n",
    "#     break\n",
    "#     # print(\".diag_h_batch.shape:     \", param.diag_h_batch.shape)"
   ]
  },
  {
   "cell_type": "code",
   "execution_count": 20,
   "metadata": {},
   "outputs": [],
   "source": [
    "elbo = laplace_model[0].weight.diag_ggn_exact.mean()"
   ]
  },
  {
   "cell_type": "code",
   "execution_count": 21,
   "metadata": {},
   "outputs": [
    {
     "data": {
      "text/plain": [
       "tensor(0.0076, grad_fn=<MeanBackward0>)"
      ]
     },
     "execution_count": 21,
     "metadata": {},
     "output_type": "execute_result"
    }
   ],
   "source": [
    "elbo"
   ]
  },
  {
   "cell_type": "code",
   "execution_count": 10,
   "metadata": {},
   "outputs": [],
   "source": [
    "from torch.autograd import grad"
   ]
  },
  {
   "cell_type": "code",
   "execution_count": 22,
   "metadata": {},
   "outputs": [],
   "source": [
    "g = grad(elbo, laplace_model.parameters(), allow_unused=True)[0]"
   ]
  },
  {
   "cell_type": "code",
   "execution_count": 25,
   "metadata": {},
   "outputs": [
    {
     "data": {
      "text/plain": [
       "nan"
      ]
     },
     "execution_count": 25,
     "metadata": {},
     "output_type": "execute_result"
    }
   ],
   "source": [
    "1000 * torch.nan"
   ]
  },
  {
   "cell_type": "code",
   "execution_count": 23,
   "metadata": {},
   "outputs": [
    {
     "name": "stdout",
     "output_type": "stream",
     "text": [
      "None\n"
     ]
    }
   ],
   "source": [
    "print(g)"
   ]
  },
  {
   "cell_type": "code",
   "execution_count": 10,
   "metadata": {},
   "outputs": [],
   "source": [
    "elbo.backward()"
   ]
  },
  {
   "cell_type": "code",
   "execution_count": 12,
   "metadata": {},
   "outputs": [
    {
     "name": "stdout",
     "output_type": "stream",
     "text": [
      "None\n"
     ]
    }
   ],
   "source": [
    "print(laplace_model[0].weight.grad)"
   ]
  },
  {
   "cell_type": "code",
   "execution_count": 11,
   "metadata": {},
   "outputs": [],
   "source": [
    "optimizer.zero_grad()"
   ]
  }
 ],
 "metadata": {
  "interpreter": {
   "hash": "cabe5e2adc12bc55fec3b05872858fd36eca333f32d669b1230866c442273ae7"
  },
  "kernelspec": {
   "display_name": "Python 3.9.7 ('DeepLearning')",
   "language": "python",
   "name": "python3"
  },
  "language_info": {
   "codemirror_mode": {
    "name": "ipython",
    "version": 3
   },
   "file_extension": ".py",
   "mimetype": "text/x-python",
   "name": "python",
   "nbconvert_exporter": "python",
   "pygments_lexer": "ipython3",
   "version": "3.9.7"
  },
  "orig_nbformat": 4
 },
 "nbformat": 4,
 "nbformat_minor": 2
}
