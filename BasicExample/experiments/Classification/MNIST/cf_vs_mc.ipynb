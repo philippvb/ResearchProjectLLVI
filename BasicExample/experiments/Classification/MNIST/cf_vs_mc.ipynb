{
 "cells": [
  {
   "cell_type": "code",
   "execution_count": 1,
   "metadata": {},
   "outputs": [],
   "source": [
    "import sys\n",
    "sys.path.append('/Users/philippvonbachmann/Documents/University/WiSe2122/ResearchProject/ResearchProjectLLVI/BasicExample')\n",
    "import torch\n",
    "import torchvision\n",
    "torch.manual_seed(5)\n",
    "\n",
    "from src.network.feature_extractor import CNN\n",
    "from src.network.Classification import LLVIClassification\n",
    "from src.network import LikApprox, PredictApprox\n",
    "from src.weight_distribution.Full import FullCovariance\n",
    "from datetime import datetime"
   ]
  },
  {
   "cell_type": "code",
   "execution_count": 2,
   "metadata": {},
   "outputs": [
    {
     "name": "stdout",
     "output_type": "stream",
     "text": [
      "test\n"
     ]
    }
   ],
   "source": [
    "print(\"test\")"
   ]
  },
  {
   "cell_type": "code",
   "execution_count": 3,
   "metadata": {},
   "outputs": [
    {
     "name": "stderr",
     "output_type": "stream",
     "text": [
      "/opt/homebrew/Caskroom/miniforge/base/envs/DeepLearning/lib/python3.9/site-packages/torchvision/datasets/mnist.py:498: UserWarning: The given NumPy array is not writeable, and PyTorch does not support non-writeable tensors. This means you can write to the underlying (supposedly non-writeable) NumPy array using the tensor. You may want to copy the array to protect its data or make it writeable before converting it to a tensor. This type of warning will be suppressed for the rest of this program. (Triggered internally at  /Users/runner/miniforge3/conda-bld/pytorch-recipe_1635217266490/work/torch/csrc/utils/tensor_numpy.cpp:189.)\n",
      "  return torch.from_numpy(parsed.astype(m[2], copy=False)).view(*s)\n"
     ]
    }
   ],
   "source": [
    "batch_size_train = 32\n",
    "batch_size_test = 1000\n",
    "filepath = \"/Users/philippvonbachmann/Documents/University/WiSe2122/ResearchProject/ResearchProjectLLVI/BasicExample/datasets/Classification\"\n",
    "train_loader = torch.utils.data.DataLoader(\n",
    "  torchvision.datasets.MNIST(filepath, train=True, download=False,\n",
    "                            transform=torchvision.transforms.Compose([\n",
    "                              torchvision.transforms.ToTensor(),\n",
    "                              torchvision.transforms.Normalize(\n",
    "                                (0.1307,), (0.3081,))\n",
    "                            ])),\n",
    "  batch_size=batch_size_train, shuffle=True)\n",
    "n_datapoints = batch_size_train * len(train_loader)"
   ]
  },
  {
   "cell_type": "code",
   "execution_count": 4,
   "metadata": {},
   "outputs": [
    {
     "name": "stdout",
     "output_type": "stream",
     "text": [
      "Starting run 1\n"
     ]
    },
    {
     "name": "stderr",
     "output_type": "stream",
     "text": [
      "prediction_loss:2.0 kl_loss:0.01: 100%|██████████| 5/5 [03:27<00:00, 41.53s/it] \n"
     ]
    },
    {
     "name": "stdout",
     "output_type": "stream",
     "text": [
      "Starting run 10\n"
     ]
    },
    {
     "name": "stderr",
     "output_type": "stream",
     "text": [
      "prediction_loss:1.21 kl_loss:0.01: 100%|██████████| 5/5 [03:36<00:00, 43.38s/it]\n"
     ]
    }
   ],
   "source": [
    "# go over all mc methods\n",
    "lr = 1e-4\n",
    "samples_list = [1,10]\n",
    "mc_train_losses = []\n",
    "mc_train_times = []\n",
    "for samples in samples_list:\n",
    "    print(\"Starting run\", samples)\n",
    "    feature_extractor = CNN(optimizer=torch.optim.Adam, lr=lr, weight_decay=5e-4)\n",
    "    dist = FullCovariance(50, 10, lr=lr)\n",
    "    net_mc = LLVIClassification(50, 10, feature_extractor, dist,\n",
    "    prior_log_var=-1, optimizer_type=torch.optim.Adam,\n",
    "    tau=0.1, lr=lr)\n",
    "    start_time = datetime.now()\n",
    "    train_loss = net_mc.train_model(train_loader, epochs=5, n_datapoints=n_datapoints, samples=samples, method=LikApprox.MONTECARLO)\n",
    "    total_time = int((datetime.now() - start_time).total_seconds())\n",
    "    mc_train_losses.append(train_loss)\n",
    "    mc_train_times.append(total_time)"
   ]
  },
  {
   "cell_type": "code",
   "execution_count": 5,
   "metadata": {},
   "outputs": [
    {
     "name": "stdout",
     "output_type": "stream",
     "text": [
      "Starting approx jennsen\n"
     ]
    },
    {
     "name": "stderr",
     "output_type": "stream",
     "text": [
      "prediction_loss:nan kl_loss:nan: 100%|██████████| 5/5 [05:18<00:00, 63.64s/it]\n"
     ]
    },
    {
     "name": "stdout",
     "output_type": "stream",
     "text": [
      "Starting approx bohning\n"
     ]
    },
    {
     "name": "stderr",
     "output_type": "stream",
     "text": [
      "prediction_loss:2.3 kl_loss:0.01: 100%|██████████| 5/5 [05:40<00:00, 68.05s/it] \n"
     ]
    },
    {
     "name": "stdout",
     "output_type": "stream",
     "text": [
      "Starting approx multidelta\n"
     ]
    },
    {
     "name": "stderr",
     "output_type": "stream",
     "text": [
      "prediction_loss:2.28 kl_loss:0.01: 100%|██████████| 5/5 [06:34<00:00, 78.81s/it] \n"
     ]
    }
   ],
   "source": [
    "approx_list = [\"jennsen\", \"bohning\", \"multidelta\"]\n",
    "cf_train_losses = []\n",
    "cf_train_times = []\n",
    "for approx_name in approx_list:\n",
    "    print(\"Starting approx\", approx_name)\n",
    "    feature_extractor = CNN(optimizer=torch.optim.Adam, lr=lr, weight_decay=5e-4)\n",
    "    dist = FullCovariance(50, 10, lr=lr)\n",
    "    net_cf = LLVIClassification(50, 10, feature_extractor, dist,\n",
    "    prior_log_var=-1, optimizer_type=torch.optim.Adam,\n",
    "    tau=0.1, lr=lr)\n",
    "    start_time = datetime.now()\n",
    "    train_loss = net_cf.train_model(train_loader, epochs=5, n_datapoints=n_datapoints, samples=5, method=LikApprox.CLOSEDFORM, approx_name=approx_name)\n",
    "    cf_train_losses.append(train_loss)\n",
    "    cf_train_times.append(int((datetime.now() - start_time).total_seconds()))"
   ]
  },
  {
   "cell_type": "code",
   "execution_count": 1,
   "metadata": {},
   "outputs": [
    {
     "ename": "NameError",
     "evalue": "name 'samples_list' is not defined",
     "output_type": "error",
     "traceback": [
      "\u001b[0;31m---------------------------------------------------------------------------\u001b[0m",
      "\u001b[0;31mNameError\u001b[0m                                 Traceback (most recent call last)",
      "\u001b[0;32m/var/folders/07/l3_khs3x2n1c8glbln1c071h0000gn/T/ipykernel_25577/4288622614.py\u001b[0m in \u001b[0;36m<module>\u001b[0;34m\u001b[0m\n\u001b[1;32m      3\u001b[0m \u001b[0mfig\u001b[0m\u001b[0;34m,\u001b[0m \u001b[0max\u001b[0m \u001b[0;34m=\u001b[0m \u001b[0mplt\u001b[0m\u001b[0;34m.\u001b[0m\u001b[0msubplots\u001b[0m\u001b[0;34m(\u001b[0m\u001b[0mfigsize\u001b[0m\u001b[0;34m=\u001b[0m\u001b[0;34m(\u001b[0m\u001b[0;36m20\u001b[0m\u001b[0;34m,\u001b[0m\u001b[0;36m10\u001b[0m\u001b[0;34m)\u001b[0m\u001b[0;34m)\u001b[0m\u001b[0;34m\u001b[0m\u001b[0;34m\u001b[0m\u001b[0m\n\u001b[1;32m      4\u001b[0m \u001b[0mvi_train_epochs\u001b[0m\u001b[0;34m=\u001b[0m\u001b[0;36m5\u001b[0m\u001b[0;34m\u001b[0m\u001b[0;34m\u001b[0m\u001b[0m\n\u001b[0;32m----> 5\u001b[0;31m \u001b[0;32mfor\u001b[0m \u001b[0msamples\u001b[0m\u001b[0;34m,\u001b[0m \u001b[0mtrain_loss\u001b[0m\u001b[0;34m,\u001b[0m \u001b[0mtrain_time\u001b[0m \u001b[0;32min\u001b[0m \u001b[0mzip\u001b[0m\u001b[0;34m(\u001b[0m\u001b[0msamples_list\u001b[0m\u001b[0;34m,\u001b[0m \u001b[0mmc_train_losses\u001b[0m\u001b[0;34m,\u001b[0m \u001b[0mmc_train_times\u001b[0m\u001b[0;34m)\u001b[0m\u001b[0;34m:\u001b[0m\u001b[0;34m\u001b[0m\u001b[0;34m\u001b[0m\u001b[0m\n\u001b[0m\u001b[1;32m      6\u001b[0m     \u001b[0max\u001b[0m\u001b[0;34m.\u001b[0m\u001b[0mplot\u001b[0m\u001b[0;34m(\u001b[0m\u001b[0mlist\u001b[0m\u001b[0;34m(\u001b[0m\u001b[0mrange\u001b[0m\u001b[0;34m(\u001b[0m\u001b[0mvi_train_epochs\u001b[0m\u001b[0;34m)\u001b[0m\u001b[0;34m)\u001b[0m\u001b[0;34m,\u001b[0m \u001b[0;34m(\u001b[0m\u001b[0mtrain_loss\u001b[0m\u001b[0;34m[\u001b[0m\u001b[0;34m\"prediction_loss\"\u001b[0m\u001b[0;34m]\u001b[0m\u001b[0;34m)\u001b[0m\u001b[0;34m,\u001b[0m \u001b[0mlabel\u001b[0m\u001b[0;34m=\u001b[0m\u001b[0;34mf\"samples:{samples}, total time:{train_time}s\"\u001b[0m\u001b[0;34m)\u001b[0m\u001b[0;34m\u001b[0m\u001b[0;34m\u001b[0m\u001b[0m\n\u001b[1;32m      7\u001b[0m \u001b[0;34m\u001b[0m\u001b[0m\n",
      "\u001b[0;31mNameError\u001b[0m: name 'samples_list' is not defined"
     ]
    },
    {
     "data": {
      "image/png": "[encoded data removed]",
      "text/plain": [
       "<Figure size 1440x720 with 1 Axes>"
      ]
     },
     "metadata": {
      "needs_background": "light"
     },
     "output_type": "display_data"
    }
   ],
   "source": [
    "# visualization\n",
    "from matplotlib import pyplot as plt\n",
    "fig, ax = plt.subplots(figsize=(20,10))\n",
    "vi_train_epochs=5\n",
    "for samples, train_loss, train_time in zip(samples_list, mc_train_losses, mc_train_times):\n",
    "    ax.plot(list(range(vi_train_epochs)), (train_loss[\"prediction_loss\"]), label=f\"samples:{samples}, total time:{train_time}s\")\n",
    "\n",
    "for approx_name, train_loss, train_time in zip(approx_list, cf_train_losses, cf_train_times):\n",
    "    ax.plot(list(range(vi_train_epochs)), (train_loss[\"prediction_loss\"]), label=f\"{approx_name}, total time:{train_time}s\") \n",
    "\n",
    "ax.legend()\n",
    "ax.set_ylim(0, 1)\n",
    "ax.set_xlim(0, 5)\n",
    "fig.suptitle(\"Monte Carlo vs Closed Form Classification Loss comparison\")\n",
    "ax.set_xlabel(\"Epoch\")\n",
    "ax.set_ylabel(\"Loss\")"
   ]
  }
 ],
 "metadata": {
  "interpreter": {
   "hash": "cabe5e2adc12bc55fec3b05872858fd36eca333f32d669b1230866c442273ae7"
  },
  "kernelspec": {
   "display_name": "Python 3.9.7 64-bit ('DeepLearning': conda)",
   "language": "python",
   "name": "python3"
  },
  "language_info": {
   "codemirror_mode": {
    "name": "ipython",
    "version": 3
   },
   "file_extension": ".py",
   "mimetype": "text/x-python",
   "name": "python",
   "nbconvert_exporter": "python",
   "pygments_lexer": "ipython3",
   "version": "3.9.7"
  },
  "orig_nbformat": 4
 },
 "nbformat": 4,
 "nbformat_minor": 2
}
