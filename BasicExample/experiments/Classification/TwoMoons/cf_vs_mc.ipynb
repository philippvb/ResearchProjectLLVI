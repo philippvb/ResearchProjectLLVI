{
 "cells": [
  {
   "cell_type": "code",
   "execution_count": 1,
   "metadata": {},
   "outputs": [],
   "source": [
    "import sys\n",
    "sys.path.append('/Users/philippvonbachmann/Documents/University/WiSe2122/ResearchProject/ResearchProjectLLVI/BasicExample')\n",
    "\n",
    "import torch\n",
    "torch.manual_seed(1) \n",
    "from matplotlib import pyplot as plt\n",
    "from torch.utils.data import DataLoader, TensorDataset\n",
    "from src.weight_distribution.Full import FullCovariance\n",
    "plt.rcParams.update({\n",
    "    \"text.usetex\": True,\n",
    "    \"font.size\": 16,\n",
    "    \"font.family\": \"sans-serif\",\n",
    "    \"font.sans-serif\": [\"Helvetica\"]})\n",
    "import matplotlib\n",
    "from src.network.feature_extractor import FC_Net\n",
    "from src.network.Classification import LLVIClassification\n",
    "from src.network import LikApprox, PredictApprox\n",
    "from experiments.TwoMoons.two_moons_dataset import create_test_points, create_train_set\n",
    "from datetime import datetime"
   ]
  },
  {
   "cell_type": "code",
   "execution_count": 2,
   "metadata": {},
   "outputs": [],
   "source": [
    "n_datapoints=1024\n",
    "batch_size = 32\n",
    "x, y = create_train_set(n_datapoints=n_datapoints, noise=0.2)\n",
    "train_loader = DataLoader(TensorDataset(x, y), batch_size=batch_size)"
   ]
  },
  {
   "cell_type": "code",
   "execution_count": 3,
   "metadata": {},
   "outputs": [],
   "source": [
    "# data saver\n",
    "mc_train_losses = []\n",
    "mc_train_times = []\n",
    "samples_list = [1,10]"
   ]
  },
  {
   "cell_type": "code",
   "execution_count": 4,
   "metadata": {},
   "outputs": [
    {
     "name": "stdout",
     "output_type": "stream",
     "text": [
      "Starting run 1\n"
     ]
    },
    {
     "name": "stderr",
     "output_type": "stream",
     "text": [
      "prediction_loss:0.07 kl_loss:0.16: 100%|██████████| 500/500 [00:16<00:00, 30.94it/s]\n"
     ]
    },
    {
     "name": "stdout",
     "output_type": "stream",
     "text": [
      "Starting run 10\n"
     ]
    },
    {
     "name": "stderr",
     "output_type": "stream",
     "text": [
      "prediction_loss:0.07 kl_loss:0.16: 100%|██████████| 500/500 [00:17<00:00, 29.37it/s]\n"
     ]
    }
   ],
   "source": [
    "lr = 1e-3\n",
    "# go over all mc methods\n",
    "for samples in samples_list:\n",
    "    print(\"Starting run\", samples)\n",
    "    torch.manual_seed(5)\n",
    "    feature_extractor_mc = FC_Net(layers=[2, 20, 20],lr=lr, weight_decay=5e-4, optimizer=torch.optim.Adam, nll=torch.nn.LeakyReLU())\n",
    "    dist = FullCovariance(20, 2, lr=lr)\n",
    "    net_mc = LLVIClassification(20, 2, feature_extractor_mc, dist,\n",
    "    prior_log_var=-1, optimizer_type=torch.optim.Adam,\n",
    "    tau=1, lr=lr)\n",
    "    # net_mc.train_without_VI(train_loader, epochs=10)\n",
    "    start_time = datetime.now()\n",
    "    train_loss = net_mc.train_model(train_loader, epochs=500, n_datapoints=n_datapoints, samples=samples, method=LikApprox.MONTECARLO)\n",
    "    total_time = int((datetime.now() - start_time).total_seconds())\n",
    "    mc_train_losses.append(train_loss)\n",
    "    mc_train_times.append(total_time)"
   ]
  },
  {
   "cell_type": "code",
   "execution_count": 7,
   "metadata": {},
   "outputs": [
    {
     "name": "stderr",
     "output_type": "stream",
     "text": [
      "prediction_loss:0.1 kl_loss:0.17: 100%|██████████| 500/500 [00:20<00:00, 24.95it/s] \n"
     ]
    }
   ],
   "source": [
    "lr = 1e-3\n",
    "torch.manual_seed(3)\n",
    "feature_extractor_cf = FC_Net(layers=[2, 20, 20],lr=lr, weight_decay=5e-4, optimizer=torch.optim.Adam, nll=torch.nn.LeakyReLU())\n",
    "dist = FullCovariance(20, 2, lr=lr)\n",
    "net_cf = LLVIClassification(20, 2, feature_extractor_cf, dist,\n",
    "prior_log_var=-1, optimizer_type=torch.optim.Adam,\n",
    "tau=1, lr=lr)\n",
    "# net_cf.train_without_VI(train_loader, epochs=10)\n",
    "start_time = datetime.now()\n",
    "cf_train_loss = net_cf.train_model(train_loader, epochs=500, n_datapoints=n_datapoints, samples=5, method=LikApprox.CLOSEDFORM, approx_name=\"jennsen\")\n",
    "cf_train_time = int((datetime.now() - start_time).total_seconds())"
   ]
  },
  {
   "cell_type": "code",
   "execution_count": 8,
   "metadata": {},
   "outputs": [
    {
     "data": {
      "text/plain": [
       "Text(0, 0.5, 'Loss')"
      ]
     },
     "execution_count": 8,
     "metadata": {},
     "output_type": "execute_result"
    },
    {
     "data": {
      "image/png": "[encoded data removed]",
      "text/plain": [
       "<Figure size 432x288 with 1 Axes>"
      ]
     },
     "metadata": {
      "needs_background": "light"
     },
     "output_type": "display_data"
    }
   ],
   "source": [
    "# visualization\n",
    "fig, ax = plt.subplots()\n",
    "vi_train_epochs=500\n",
    "for samples, train_loss, train_time in zip(samples_list, mc_train_losses, mc_train_times):\n",
    "    # ax.plot(list(range(vi_train_epochs)), train_loss[\"prediction_loss\"], label=f\"samples:{samples}, total time:{train_time}s\", alpha=0.5)\n",
    "    # or with smoothing\n",
    "    ax.plot(list(range(vi_train_epochs)), (train_loss[\"prediction_loss\"] + train_loss[\"kl_loss\"]).rolling(7).mean(), label=f\"samples:{samples}, total time:{train_time}s\")\n",
    "\n",
    "\n",
    "ax.plot(list(range(vi_train_epochs)), (cf_train_loss[\"prediction_loss\"] + cf_train_loss[\"kl_loss\"]), label=f\"Closed form, total time:{cf_train_time}s\") \n",
    "\n",
    "ax.legend()\n",
    "ax.set_ylim(0.2, 1)\n",
    "fig.suptitle(\"Monte Carlo vs Closed Form Regression Loss comparison\")\n",
    "ax.set_xlabel(\"Epoch\")\n",
    "ax.set_ylabel(\"Loss\")"
   ]
  }
 ],
 "metadata": {
  "interpreter": {
   "hash": "cabe5e2adc12bc55fec3b05872858fd36eca333f32d669b1230866c442273ae7"
  },
  "kernelspec": {
   "display_name": "Python 3.9.7 64-bit ('DeepLearning': conda)",
   "language": "python",
   "name": "python3"
  },
  "language_info": {
   "codemirror_mode": {
    "name": "ipython",
    "version": 3
   },
   "file_extension": ".py",
   "mimetype": "text/x-python",
   "name": "python",
   "nbconvert_exporter": "python",
   "pygments_lexer": "ipython3",
   "version": "3.9.7"
  },
  "orig_nbformat": 4
 },
 "nbformat": 4,
 "nbformat_minor": 2
}
