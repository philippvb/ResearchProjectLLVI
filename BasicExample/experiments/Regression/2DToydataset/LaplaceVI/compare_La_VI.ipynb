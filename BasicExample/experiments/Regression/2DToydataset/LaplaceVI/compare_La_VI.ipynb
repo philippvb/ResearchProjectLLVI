{
 "cells": [
  {
   "cell_type": "code",
   "execution_count": 1,
   "metadata": {},
   "outputs": [],
   "source": [
    "import sys\n",
    "import torch\n",
    "sys.path.append(\"/Users/philippvonbachmann/Documents/University/WiSe2122/ResearchProject/ResearchProjectLLVI/BasicExample\")\n",
    "from src.log_likelihood import LogLikelihoodMonteCarlo\n",
    "from datasets.Regression.toydataset import create_dataset, sinus_mapping, dataset_to_loader, visualize_predictions, to_loader\n",
    "from src.network.feature_extractor import FC_Net\n",
    "from src.network import LikApprox\n",
    "from torch import nn\n",
    "from backpack import backpack, extend\n",
    "from backpack.extensions import DiagHessian, DiagGGNExact, DiagGGNMC\n",
    "from torch.autograd import grad\n",
    "from tqdm import tqdm\n",
    "from src.laplace import LaplaceVI\n",
    "from matplotlib import pyplot as plt\n",
    "import copy\n",
    "from src.network.feature_extractor import FC_Net\n",
    "from src.network.Regression import LLVIRegressionNoNoise, LLVIRegression\n",
    "from src.weight_distribution.Diagonal import Diagonal\n",
    "\n",
    "torch.manual_seed(3)\n",
    "\n",
    "data_noise = 0.2\n",
    "n_datapoints=256\n",
    "x_train, y_train, x_test, y_test = create_dataset(lower=-5, upper=7, mapping=sinus_mapping,cluster_pos=[-0.5, 2], data_noise=data_noise, n_datapoints=n_datapoints)\n",
    "batch_size = 16\n",
    "train_set, test_set = dataset_to_loader(x_train, y_train, x_test, y_test , batch_size=16)"
   ]
  },
  {
   "cell_type": "markdown",
   "metadata": {},
   "source": [
    "### params"
   ]
  },
  {
   "cell_type": "code",
   "execution_count": 2,
   "metadata": {},
   "outputs": [],
   "source": [
    "tau = 0.1\n",
    "lr = 1e-4\n",
    "optimizer = torch.optim.SGD\n",
    "epochs = 500"
   ]
  },
  {
   "cell_type": "markdown",
   "metadata": {},
   "source": [
    "### Laplace Model"
   ]
  },
  {
   "cell_type": "code",
   "execution_count": 3,
   "metadata": {},
   "outputs": [],
   "source": [
    "feature_extractor = torch.nn.Sequential(\n",
    "        torch.nn.Linear(1, 100),\n",
    "        torch.nn.Tanh(),\n",
    "        torch.nn.Linear(100, 200),\n",
    "        torch.nn.Tanh()\n",
    ")\n",
    "la_model = LaplaceVI(200, 1, feature_extractor, tau=tau, lr=lr)"
   ]
  },
  {
   "cell_type": "markdown",
   "metadata": {},
   "source": [
    "### VI model"
   ]
  },
  {
   "cell_type": "code",
   "execution_count": 4,
   "metadata": {},
   "outputs": [],
   "source": [
    "dist = Diagonal(200, 1, lr=lr, init_log_var=-2)\n",
    "dist.update_mean(la_model.ll_model[-1].weight.T)\n",
    "vi_feature_extractor = FC_Net(layers=[1, 100, 200], nll = torch.nn.Tanh(),lr=lr, weight_decay=0, optimizer=optimizer)\n",
    "vi_feature_extractor.load_state_dict(feature_extractor.state_dict(), strict=False)\n",
    "# vi_feature_extractor.optimizer = torch.optim.SGD(vi_feature_extractor.parameters(), lr=1e-3)\n",
    "vi_model = LLVIRegressionNoNoise(200, 1, vi_feature_extractor, dist, prior_log_var=0, optimizer_type=optimizer,\n",
    "tau=tau,\n",
    "lr=lr)"
   ]
  },
  {
   "cell_type": "markdown",
   "metadata": {},
   "source": [
    "Make sure that copying worked"
   ]
  },
  {
   "cell_type": "code",
   "execution_count": 5,
   "metadata": {},
   "outputs": [],
   "source": [
    "for data, target in train_set:\n",
    "    y_la_mean, _ = la_model.predict(data)\n",
    "    y_vi_mean, _ = vi_model.predict(data)\n",
    "    assert torch.equal(y_la_mean, y_vi_mean)"
   ]
  },
  {
   "cell_type": "markdown",
   "metadata": {},
   "source": [
    "Now we can train"
   ]
  },
  {
   "cell_type": "code",
   "execution_count": 6,
   "metadata": {},
   "outputs": [],
   "source": [
    "# vi_model.train_without_VI(train_set, n_datapoints)"
   ]
  },
  {
   "cell_type": "code",
   "execution_count": 7,
   "metadata": {},
   "outputs": [
    {
     "name": "stderr",
     "output_type": "stream",
     "text": [
      "prediction_loss:0.48 kl_loss:0.05: 100%|██████████| 500/500 [00:33<00:00, 14.96it/s]\n"
     ]
    }
   ],
   "source": [
    "vi_tracking, vi_trajectories = vi_model.train_model_log_trajectories(train_set, n_datapoints=n_datapoints, epochs=epochs, method=LikApprox.MONTECARLO, samples=1)"
   ]
  },
  {
   "cell_type": "code",
   "execution_count": 8,
   "metadata": {},
   "outputs": [
    {
     "name": "stderr",
     "output_type": "stream",
     "text": [
      "loss:0.32 entropy:294.49: 100%|██████████| 500/500 [00:35<00:00, 14.12it/s]\n"
     ]
    }
   ],
   "source": [
    "la_tracking, la_trajectories = la_model.train_model_with_trajectories(train_set, n_datapoints, epochs);"
   ]
  },
  {
   "cell_type": "markdown",
   "metadata": {},
   "source": [
    "plot the kl divergence"
   ]
  },
  {
   "cell_type": "code",
   "execution_count": 9,
   "metadata": {},
   "outputs": [],
   "source": [
    "def kl_divergence(mu_1, cov_1, mu_2, cov_2):\n",
    "    assert mu_1.shape == mu_2.shape and cov_1.shape == cov_2.shape\n",
    "    first_term = torch.sum(torch.log(cov_2) - torch.log(cov_1))\n",
    "    second_term = torch.sum(torch.div(cov_1, cov_2))\n",
    "    last_term = torch.sum(torch.div(torch.square(mu_2 - mu_1), cov_2))\n",
    "    # print(first_term, second_term, last_term)\n",
    "    div = 0.5 * (first_term - mu_1.shape[0] + second_term + last_term)\n",
    "    return div"
   ]
  },
  {
   "cell_type": "code",
   "execution_count": 10,
   "metadata": {},
   "outputs": [
    {
     "data": {
      "text/plain": [
       "tensor(53441.9258, grad_fn=<MulBackward0>)"
      ]
     },
     "execution_count": 10,
     "metadata": {},
     "output_type": "execute_result"
    }
   ],
   "source": [
    "kl_divergence(dist.get_mu().flatten(), dist.get_cov().diag(), la_model.ll_model[-1].weight.flatten(), la_model.covariance_matrix.flatten())"
   ]
  },
  {
   "cell_type": "markdown",
   "metadata": {},
   "source": [
    "the weight space"
   ]
  },
  {
   "cell_type": "code",
   "execution_count": 11,
   "metadata": {},
   "outputs": [],
   "source": [
    "from sklearn.decomposition import PCA\n",
    "from matplotlib import pyplot as plt\n",
    "import torch\n",
    "\n",
    "def plot_trajectories(traj, axs, splits, labels=(\"Laplace\", \"VI\"), color=[\"red\", \"blue\"]):\n",
    "    pca = PCA(n_components=2)\n",
    "    projection = pca.fit_transform(traj)\n",
    "    for idx, (start, end) in enumerate(zip([0]+splits, splits+[traj.shape[0]])):\n",
    "        # axs.scatter(projection[start:end, 0], projection[start:end, 1], s=10, label=labels[idx])\n",
    "        axs.plot(projection[start:end, 0], projection[start:end, 1], label=labels[idx], color=color[idx])\n",
    "        mid = start+int((end-start)/2)\n",
    "        axs.arrow(projection[mid][0], projection[mid][1], (projection[mid+1] - projection[mid])[0], (projection[mid+1] - projection[mid])[1])\n",
    "    return pca, projection\n"
   ]
  },
  {
   "cell_type": "code",
   "execution_count": 12,
   "metadata": {},
   "outputs": [
    {
     "data": {
      "text/plain": [
       "(-0.03947402500263225, 0.07552463752265881)"
      ]
     },
     "execution_count": 12,
     "metadata": {},
     "output_type": "execute_result"
    },
    {
     "data": {
      "image/png": "[encoded data removed]",
      "text/plain": [
       "<Figure size 432x288 with 1 Axes>"
      ]
     },
     "metadata": {
      "needs_background": "light"
     },
     "output_type": "display_data"
    }
   ],
   "source": [
    "fig, axs = plt.subplots(1)\n",
    "pca, projection = plot_trajectories(torch.cat([la_trajectories, vi_trajectories], dim=0), axs,\n",
    " splits = [epochs], labels=[\"Laplace\", \"VI\"]);\n",
    "axs.legend()\n",
    "axs.set_xlim(axs.get_xlim()[0]*2, axs.get_xlim()[1]*2)\n",
    "axs.set_ylim(axs.get_ylim()[0]*2, axs.get_ylim()[1]*2)"
   ]
  },
  {
   "cell_type": "markdown",
   "metadata": {},
   "source": [
    "add the variance"
   ]
  },
  {
   "cell_type": "code",
   "execution_count": 13,
   "metadata": {},
   "outputs": [
    {
     "name": "stdout",
     "output_type": "stream",
     "text": [
      "[0.41684022 1.10051925]\n"
     ]
    },
    {
     "data": {
      "text/plain": [
       "<matplotlib.patches.Ellipse at 0x104e1f640>"
      ]
     },
     "execution_count": 13,
     "metadata": {},
     "output_type": "execute_result"
    }
   ],
   "source": [
    "from matplotlib.patches import Ellipse\n",
    "vi_cov_pca = pca.transform(dist.get_cov().diagonal().unsqueeze(dim=0).detach().numpy()).squeeze()\n",
    "print(vi_cov_pca)\n",
    "vi_cov_pca = Ellipse(projection[-1], vi_cov_pca[0], vi_cov_pca[1], color=\"blue\", alpha=0.1)\n",
    "axs.add_patch(vi_cov_pca)"
   ]
  },
  {
   "cell_type": "code",
   "execution_count": 14,
   "metadata": {},
   "outputs": [
    {
     "name": "stdout",
     "output_type": "stream",
     "text": [
      "Ellipse(xy=(-0.051358831434808, 0.035148712794845514), width=0.4168402175474404, height=1.1005192493068536, angle=0)\n"
     ]
    },
    {
     "data": {
      "text/plain": [
       "<matplotlib.patches.Ellipse at 0x1607a6550>"
      ]
     },
     "execution_count": 14,
     "metadata": {},
     "output_type": "execute_result"
    }
   ],
   "source": [
    "la_cov_pca = pca.transform(la_model.covariance_matrix.detach().numpy()).squeeze()\n",
    "print(vi_cov_pca)\n",
    "la_cov_pca = Ellipse(projection[epochs-1], la_cov_pca[0], la_cov_pca[1], color=\"red\", alpha=0.1)\n",
    "axs.add_patch(la_cov_pca)"
   ]
  },
  {
   "cell_type": "code",
   "execution_count": 15,
   "metadata": {},
   "outputs": [
    {
     "data": {
      "image/png": "[encoded data removed]",
      "text/plain": [
       "<Figure size 432x288 with 1 Axes>"
      ]
     },
     "execution_count": 15,
     "metadata": {},
     "output_type": "execute_result"
    }
   ],
   "source": [
    "fig"
   ]
  }
 ],
 "metadata": {
  "interpreter": {
   "hash": "cabe5e2adc12bc55fec3b05872858fd36eca333f32d669b1230866c442273ae7"
  },
  "kernelspec": {
   "display_name": "Python 3.9.7 ('DeepLearning')",
   "language": "python",
   "name": "python3"
  },
  "language_info": {
   "codemirror_mode": {
    "name": "ipython",
    "version": 3
   },
   "file_extension": ".py",
   "mimetype": "text/x-python",
   "name": "python",
   "nbconvert_exporter": "python",
   "pygments_lexer": "ipython3",
   "version": "3.9.7"
  },
  "orig_nbformat": 4
 },
 "nbformat": 4,
 "nbformat_minor": 2
}
