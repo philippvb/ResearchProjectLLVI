{
 "cells": [
  {
   "cell_type": "code",
   "execution_count": 19,
   "metadata": {},
   "outputs": [],
   "source": [
    "import math\n",
    "import sys\n",
    "sys.path.append('/Users/philippvonbachmann/Documents/University/WiSe2122/ResearchProject/ResearchProjectLLVI/BasicExample')\n",
    "\n",
    "from datasets.Classification.TwoMoons import create_test_points, create_train_set\n",
    "from src.network.feature_extractor import FC_Net\n",
    "from torch import nn\n",
    "import torch\n",
    "from torch.utils.data import DataLoader, TensorDataset\n",
    "from laplace import Laplace\n",
    "import numpy as np\n",
    "from tqdm import tqdm\n",
    "from matplotlib import pyplot as plt\n",
    "import matplotlib"
   ]
  },
  {
   "cell_type": "code",
   "execution_count": 20,
   "metadata": {},
   "outputs": [],
   "source": [
    "class FC_Net_Laplace(nn.Module):\n",
    "    def __init__(self, out_dim, weight_decay):\n",
    "        super().__init__()\n",
    "        self.fc1 = nn.Linear(2, 20)\n",
    "        self.fc2 = nn.Linear(20, 20)\n",
    "        self.fc3 = nn.Linear(20, out_dim, bias=False)\n",
    "        self.nll = nn.LeakyReLU() # dont use normal relu here since otherwise some values can be 0 later\n",
    "        self.optimizer = torch.optim.Adam(self.parameters(), weight_decay=weight_decay, lr=1e-3)\n",
    "        self.weight_decay = weight_decay\n",
    "\n",
    "    def forward(self, x):\n",
    "        h1 = self.nll(self.fc1(x))\n",
    "        h2 = self.nll(self.fc2(h1))\n",
    "        h3 = self.fc3(h2)\n",
    "        return h3\n",
    "\n",
    "    def delete_last_layer(self):\n",
    "        self.forward = self.new_forward\n",
    "        self.optimizer = torch.optim.Adam(self.parameters(), weight_decay=self.weight_decay, lr=1e-4)\n",
    "\n",
    "    def new_forward(self, x):\n",
    "        h1 = self.nll(self.fc1(x))\n",
    "        h2 = self.nll(self.fc2(h1))\n",
    "        return h2\n",
    "\n"
   ]
  },
  {
   "cell_type": "code",
   "execution_count": 21,
   "metadata": {},
   "outputs": [],
   "source": [
    "# create dataset\n",
    "n_datapoints = 256\n",
    "x, y = create_train_set(n_datapoints=n_datapoints, noise=0.2)\n",
    "batch_size=32\n",
    "laplace_loader = DataLoader(TensorDataset(x, y), batch_size=batch_size)\n",
    "n_test_datapoints = 70\n",
    "X_test, X1_test, X2_test = create_test_points(-2, 3, n_test_datapoints)"
   ]
  },
  {
   "cell_type": "code",
   "execution_count": 22,
   "metadata": {},
   "outputs": [
    {
     "name": "stderr",
     "output_type": "stream",
     "text": [
      "Loss: 0.05: 100%|██████████| 200/200 [00:01<00:00, 108.26it/s]\n",
      "prediction_loss:0.71 kl_loss:15.09: 100%|██████████| 100/100 [00:01<00:00, 74.26it/s]\n"
     ]
    }
   ],
   "source": [
    "# init model\n",
    "torch.manual_seed(3)\n",
    "weight_decay = 5e-4\n",
    "laplace_model = FC_Net_Laplace(2, weight_decay=weight_decay)\n",
    "criterion = torch.nn.CrossEntropyLoss()\n",
    "\n",
    "# train\n",
    "epochs = 200\n",
    "pbar = tqdm(range(epochs))\n",
    "for i in pbar:\n",
    "    for X_batch, y_batch in laplace_loader:\n",
    "        laplace_model.optimizer.zero_grad()\n",
    "        loss = criterion(laplace_model(X_batch), y_batch)\n",
    "        loss.backward()\n",
    "        laplace_model.optimizer.step()\n",
    "        pbar.set_description(f\"Loss: {round(loss.item(), 2)}\")\n",
    "\n",
    "# define laplace\n",
    "la = Laplace(laplace_model, \"classification\",\n",
    "    subset_of_weights=\"last_layer\", hessian_structure=\"full\",\n",
    "    prior_precision=5e-4) # prior precision is set to wdecay\n",
    "la.fit(laplace_loader)\n",
    "\n",
    "\n",
    "\n",
    "# define weight distribution and update values\n",
    "from src.weight_distribution.Full import FullCovariance\n",
    "dist_lp_init = FullCovariance(20, 2, lr=1e-4)\n",
    "dist_lp_init.update_cov(la.posterior_covariance)\n",
    "dist_lp_init.update_mean(torch.t(laplace_model.fc3.weight))\n",
    "\n",
    "\n",
    "# delete last layer\n",
    "laplace_model.delete_last_layer()\n",
    "\n",
    "\n",
    "# define VI model\n",
    "from src.network.Classification import LLVIClassification\n",
    "from src.network import PredictApprox, LikApprox\n",
    "\n",
    "prior_log_var=-5\n",
    "net_lp_init = LLVIClassification(20, 2, laplace_model, dist_lp_init, prior_log_var=prior_log_var, optimizer_type=torch.optim.Adam,\n",
    "tau=0.001, lr=1e-4)\n",
    "loss_lp_init = net_lp_init.train_model(laplace_loader, epochs=100, n_datapoints=n_datapoints, method=LikApprox.MONTECARLO, samples=10)\n"
   ]
  },
  {
   "cell_type": "code",
   "execution_count": 23,
   "metadata": {},
   "outputs": [
    {
     "name": "stderr",
     "output_type": "stream",
     "text": [
      "prediction_loss:0.37 kl_loss:7.53: 100%|██████████| 100/100 [00:01<00:00, 76.41it/s]\n"
     ]
    }
   ],
   "source": [
    "lr=1e-4\n",
    "feature_extractor = FC_Net(layers=[2, 20, 20],lr=lr, weight_decay=5e-4, optimizer=torch.optim.Adam, nll=torch.nn.LeakyReLU())\n",
    "dist = FullCovariance(20, 2, lr=lr)\n",
    "net = LLVIClassification(20, 2, feature_extractor, dist, prior_log_var=prior_log_var, optimizer_type=torch.optim.Adam,\n",
    "tau=0.1, lr=lr)\n",
    "loss = net.train_model(laplace_loader, epochs=100, n_datapoints=n_datapoints, method=LikApprox.MONTECARLO, samples=10)"
   ]
  },
  {
   "cell_type": "code",
   "execution_count": 24,
   "metadata": {},
   "outputs": [
    {
     "data": {
      "image/png": "[encoded data removed]",
      "text/plain": [
       "<Figure size 432x288 with 1 Axes>"
      ]
     },
     "metadata": {
      "needs_background": "light"
     },
     "output_type": "display_data"
    }
   ],
   "source": [
    "fig, ax = plt.subplots()\n",
    "ax.plot(range(100), loss_lp_init[\"prediction_loss\"], label=\"Laplace init\")\n",
    "ax.plot(range(100), loss[\"prediction_loss\"], label=\"Without init\")\n",
    "ax.legend()\n",
    "ax.set_title(\"Log-Likelihood\");"
   ]
  }
 ],
 "metadata": {
  "interpreter": {
   "hash": "cabe5e2adc12bc55fec3b05872858fd36eca333f32d669b1230866c442273ae7"
  },
  "kernelspec": {
   "display_name": "Python 3.9.7 64-bit ('DeepLearning': conda)",
   "language": "python",
   "name": "python3"
  },
  "language_info": {
   "codemirror_mode": {
    "name": "ipython",
    "version": 3
   },
   "file_extension": ".py",
   "mimetype": "text/x-python",
   "name": "python",
   "nbconvert_exporter": "python",
   "pygments_lexer": "ipython3",
   "version": "3.9.7"
  },
  "orig_nbformat": 4
 },
 "nbformat": 4,
 "nbformat_minor": 2
}
