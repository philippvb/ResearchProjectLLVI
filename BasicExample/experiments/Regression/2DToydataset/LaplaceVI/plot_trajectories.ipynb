{
 "cells": [
  {
   "cell_type": "code",
   "execution_count": 18,
   "metadata": {},
   "outputs": [],
   "source": [
    "import sys\n",
    "import torch\n",
    "sys.path.append(\"/Users/philippvonbachmann/Documents/University/WiSe2122/ResearchProject/ResearchProjectLLVI/BasicExample\")\n",
    "from src.log_likelihood import LogLikelihoodMonteCarlo\n",
    "from datasets.Regression.toydataset import create_dataset, sinus_mapping, dataset_to_loader, visualize_predictions, to_loader\n",
    "from src.network.feature_extractor import FC_Net\n",
    "from src.network import LikApprox\n",
    "from torch import nn\n",
    "from backpack import backpack, extend\n",
    "from backpack.extensions import DiagHessian, DiagGGNExact, DiagGGNMC\n",
    "from torch.autograd import grad\n",
    "from tqdm import tqdm\n",
    "from src.laplace import LaplaceVI\n",
    "from matplotlib import pyplot as plt\n",
    "import copy\n",
    "\n",
    "torch.manual_seed(3)\n",
    "\n",
    "data_noise = 0.2\n",
    "x_train, y_train, x_test, y_test = create_dataset(lower=-5, upper=7, mapping=sinus_mapping,cluster_pos=[-0.5, 2], data_noise=data_noise, n_datapoints=256)\n",
    "\n",
    "lr = 1e-4\n",
    "feature_extractor = torch.nn.Sequential(\n",
    "        torch.nn.Linear(1, 100),\n",
    "        torch.nn.Tanh(),\n",
    "        torch.nn.Linear(100, 200),\n",
    "        torch.nn.Tanh()\n",
    ")\n",
    "model = LaplaceVI(200, 1, feature_extractor, tau=1, lr=1e-2)\n",
    "baseline_model = copy.deepcopy(model)\n",
    "baseline_model.tau = 0\n",
    "batch_size = 16\n",
    "train_set, test_set = dataset_to_loader(x_train, y_train, x_test, y_test , batch_size=16)"
   ]
  },
  {
   "cell_type": "code",
   "execution_count": 33,
   "metadata": {},
   "outputs": [],
   "source": [
    "from src.network.feature_extractor import FC_Net\n",
    "from src.network.Regression import LLVIRegressionNoNoise, LLVIRegression\n",
    "from src.weight_distribution.Diagonal import Diagonal\n",
    "dist = Diagonal(200, 1, lr=lr, init_log_var=-2)\n",
    "vi_feature_extractor = FC_Net(layers=[1, 100, 200], nll = torch.nn.Tanh(),lr=lr, weight_decay=0)\n",
    "# vi_feature_extractor.load_state_dict(feature_extractor.state_dict())\n",
    "# vi_feature_extractor.optimizer = torch.optim.SGD(vi_feature_extractor.parameters(), lr=1e-3)\n",
    "vi_model = LLVIRegression(200, 1, vi_feature_extractor, dist, prior_log_var=0, optimizer_type=torch.optim.Adam,\n",
    "tau=0.01,\n",
    "lr=1e-2)"
   ]
  },
  {
   "cell_type": "code",
   "execution_count": 34,
   "metadata": {},
   "outputs": [
    {
     "name": "stderr",
     "output_type": "stream",
     "text": [
      "prediction_loss:1.38 kl_loss:0.01: 100%|██████████| 100/100 [00:56<00:00,  1.77it/s]\n"
     ]
    }
   ],
   "source": [
    "vi_output, vi_trajectories = vi_model.train_model_log_trajectories(train_set, 256, epochs=100)"
   ]
  },
  {
   "cell_type": "code",
   "execution_count": 4,
   "metadata": {},
   "outputs": [
    {
     "name": "stderr",
     "output_type": "stream",
     "text": [
      "loss:0.12 entropy:654.26: 100%|██████████| 100/100 [00:17<00:00,  5.57it/s]\n"
     ]
    }
   ],
   "source": [
    "tracking_baseline, trajectories_baseline = baseline_model.train_model_with_trajectories(train_set, 256, 100);"
   ]
  },
  {
   "cell_type": "code",
   "execution_count": 5,
   "metadata": {},
   "outputs": [
    {
     "name": "stderr",
     "output_type": "stream",
     "text": [
      "loss:0.12 entropy:924.46: 100%|██████████| 100/100 [00:17<00:00,  5.60it/s]\n"
     ]
    }
   ],
   "source": [
    "tracking, trajectories = model.train_model_with_trajectories(train_set, 256, 100);"
   ]
  },
  {
   "cell_type": "code",
   "execution_count": 13,
   "metadata": {},
   "outputs": [],
   "source": [
    "from sklearn.decomposition import PCA\n",
    "from matplotlib import pyplot as plt\n",
    "import torch\n",
    "\n",
    "def plot_trajectories(traj, axs, splits, labels=(\"Baseline\", \"Laplace_VI\", \"VI\")):\n",
    "    pca = PCA(n_components=2)\n",
    "    projection = pca.fit_transform(traj)\n",
    "    for idx, (start, end) in enumerate(zip([0]+splits, splits+[-1])):\n",
    "        axs.scatter(projection[start:end, 0], projection[start:end, 1], s=10, label=labels[idx])\n",
    "    return projection\n",
    "\n"
   ]
  },
  {
   "cell_type": "code",
   "execution_count": 15,
   "metadata": {},
   "outputs": [
    {
     "data": {
      "text/plain": [
       "<matplotlib.legend.Legend at 0x1610ec760>"
      ]
     },
     "execution_count": 15,
     "metadata": {},
     "output_type": "execute_result"
    },
    {
     "data": {
      "image/png": "[encoded data removed]",
      "text/plain": [
       "<Figure size 432x288 with 1 Axes>"
      ]
     },
     "metadata": {
      "needs_background": "light"
     },
     "output_type": "display_data"
    }
   ],
   "source": [
    "from matplotlib import pyplot as plt\n",
    "# from src.utils.plotting import plot_trajectories\n",
    "fig, axs = plt.subplots(1)\n",
    "plot_trajectories(torch.cat([trajectories_baseline, trajectories, vi_trajectories], dim=0), axs,\n",
    " splits = [trajectories_baseline.shape[0], trajectories_baseline.shape[0]+ trajectories.shape[0]]);\n",
    "axs.legend()"
   ]
  }
 ],
 "metadata": {
  "interpreter": {
   "hash": "cabe5e2adc12bc55fec3b05872858fd36eca333f32d669b1230866c442273ae7"
  },
  "kernelspec": {
   "display_name": "Python 3.9.7 ('DeepLearning')",
   "language": "python",
   "name": "python3"
  },
  "language_info": {
   "codemirror_mode": {
    "name": "ipython",
    "version": 3
   },
   "file_extension": ".py",
   "mimetype": "text/x-python",
   "name": "python",
   "nbconvert_exporter": "python",
   "pygments_lexer": "ipython3",
   "version": "3.9.7"
  },
  "orig_nbformat": 4
 },
 "nbformat": 4,
 "nbformat_minor": 2
}
